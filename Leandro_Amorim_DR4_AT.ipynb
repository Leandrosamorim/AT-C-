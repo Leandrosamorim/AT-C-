{
  "nbformat": 4,
  "nbformat_minor": 0,
  "metadata": {
    "colab": {
      "provenance": [],
      "include_colab_link": true
    },
    "kernelspec": {
      "name": "python3",
      "display_name": "Python 3"
    },
    "language_info": {
      "name": "python"
    }
  },
  "cells": [
    {
      "cell_type": "markdown",
      "metadata": {
        "id": "view-in-github",
        "colab_type": "text"
      },
      "source": [
        "<a href=\"https://colab.research.google.com/github/Leandrosamorim/AT-C-/blob/master/Leandro_Amorim_DR4_AT.ipynb\" target=\"_parent\"><img src=\"https://colab.research.google.com/assets/colab-badge.svg\" alt=\"Open In Colab\"/></a>"
      ]
    },
    {
      "cell_type": "code",
      "metadata": {
        "id": "lBcWjhOZbfaL",
        "colab": {
          "base_uri": "https://localhost:8080/"
        },
        "outputId": "2c157c23-5ca2-4412-f8e0-6b08bc394931"
      },
      "source": [
        "!apt-get install openjdk-8-jdk-headless -qq > /dev/null\n",
        "!apt-get install unzip\n",
        "!wget -q https://dlcdn.apache.org/spark/spark-3.4.0/spark-3.4.0-bin-hadoop3.tgz\n",
        "!tar xf spark-3.4.0-bin-hadoop3.tgz\n",
        "!pip install -q findspark\n",
        "!pip install pyspark\n",
        "import os\n",
        "os.environ[\"JAVA_HOME\"] = \"/usr/lib/jvm/java-8-openjdk-amd64\"\n",
        "!update-alternatives --set java /usr/lib/jvm/java-8-openjdk-amd64/jre/bin/java\n",
        "!java -version"
      ],
      "execution_count": null,
      "outputs": [
        {
          "output_type": "stream",
          "name": "stdout",
          "text": [
            "Reading package lists... Done\n",
            "Building dependency tree... Done\n",
            "Reading state information... Done\n",
            "unzip is already the newest version (6.0-26ubuntu3.1).\n",
            "0 upgraded, 0 newly installed, 0 to remove and 18 not upgraded.\n",
            "tar: spark-3.4.0-bin-hadoop3.tgz: Cannot open: No such file or directory\n",
            "tar: Error is not recoverable: exiting now\n",
            "Collecting pyspark\n",
            "  Downloading pyspark-3.5.0.tar.gz (316.9 MB)\n",
            "\u001b[2K     \u001b[90m━━━━━━━━━━━━━━━━━━━━━━━━━━━━━━━━━━━━━━━\u001b[0m \u001b[32m316.9/316.9 MB\u001b[0m \u001b[31m4.6 MB/s\u001b[0m eta \u001b[36m0:00:00\u001b[0m\n",
            "\u001b[?25h  Preparing metadata (setup.py) ... \u001b[?25l\u001b[?25hdone\n",
            "Requirement already satisfied: py4j==0.10.9.7 in /usr/local/lib/python3.10/dist-packages (from pyspark) (0.10.9.7)\n",
            "Building wheels for collected packages: pyspark\n",
            "  Building wheel for pyspark (setup.py) ... \u001b[?25l\u001b[?25hdone\n",
            "  Created wheel for pyspark: filename=pyspark-3.5.0-py2.py3-none-any.whl size=317425344 sha256=5f2903ff7e2cdde5b0ba18f35a0c3557c93579a5f8a623f08f6880dcaa8d43af\n",
            "  Stored in directory: /root/.cache/pip/wheels/41/4e/10/c2cf2467f71c678cfc8a6b9ac9241e5e44a01940da8fbb17fc\n",
            "Successfully built pyspark\n",
            "Installing collected packages: pyspark\n",
            "Successfully installed pyspark-3.5.0\n",
            "update-alternatives: using /usr/lib/jvm/java-8-openjdk-amd64/jre/bin/java to provide /usr/bin/java (java) in manual mode\n",
            "openjdk version \"1.8.0_382\"\n",
            "OpenJDK Runtime Environment (build 1.8.0_382-8u382-ga-1~22.04.1-b05)\n",
            "OpenJDK 64-Bit Server VM (build 25.382-b05, mixed mode)\n"
          ]
        }
      ]
    },
    {
      "cell_type": "code",
      "source": [
        "import pyspark\n",
        "import random\n",
        "\n",
        "from pyspark.sql import SparkSession\n",
        "\n",
        "spark = SparkSession \\\n",
        "    .builder \\\n",
        "    .appName(\"Spark_SQL\") \\\n",
        "    .getOrCreate()\n",
        "\n",
        "print(\"Initialization successful\")"
      ],
      "metadata": {
        "colab": {
          "base_uri": "https://localhost:8080/"
        },
        "id": "zJ2y49c2TPgH",
        "outputId": "aed08703-a728-4de6-a6e4-e4e642da2b9a"
      },
      "execution_count": null,
      "outputs": [
        {
          "output_type": "stream",
          "name": "stdout",
          "text": [
            "Initialization successful\n"
          ]
        }
      ]
    },
    {
      "cell_type": "code",
      "source": [
        "def shape(df):\n",
        "    return (df.count(), len(df.columns))"
      ],
      "metadata": {
        "id": "qKsO4toeTQQ1"
      },
      "execution_count": null,
      "outputs": []
    },
    {
      "cell_type": "code",
      "source": [
        "from pathlib import Path\n",
        "bus_api_folder = Path.cwd().parent / \"datasets\" / \"bus-api-parquet\""
      ],
      "metadata": {
        "id": "W8FlqQIeT0qY"
      },
      "execution_count": null,
      "outputs": []
    },
    {
      "cell_type": "code",
      "source": [
        "str(bus_api_folder)"
      ],
      "metadata": {
        "colab": {
          "base_uri": "https://localhost:8080/",
          "height": 35
        },
        "id": "AmC4ihfRTF59",
        "outputId": "648df207-781c-409f-d600-2ff40b60122d"
      },
      "execution_count": null,
      "outputs": [
        {
          "output_type": "execute_result",
          "data": {
            "text/plain": [
              "'/datasets/bus-api-parquet'"
            ],
            "application/vnd.google.colaboratory.intrinsic+json": {
              "type": "string"
            }
          },
          "metadata": {},
          "execution_count": 5
        }
      ]
    },
    {
      "cell_type": "code",
      "source": [
        "from google.colab import drive\n",
        "drive.mount('/content/drive')\n",
        "\n",
        "!unzip -d ./datasets /content/drive/MyDrive/bus-api-parquet.zip"
      ],
      "metadata": {
        "colab": {
          "base_uri": "https://localhost:8080/"
        },
        "id": "912kwAgbhnDz",
        "outputId": "0dbe7889-e622-47e1-f4c7-6c6cd1600bc1"
      },
      "execution_count": null,
      "outputs": [
        {
          "output_type": "stream",
          "name": "stdout",
          "text": [
            "Mounted at /content/drive\n",
            "Archive:  /content/drive/MyDrive/bus-api-parquet.zip\n",
            "   creating: ./datasets/bus-api-parquet/\n",
            "  inflating: ./datasets/bus-api-parquet/2023-05-22_030000.jsonl.parquet  \n",
            "  inflating: ./datasets/bus-api-parquet/2023-05-18_110000.jsonl.parquet  \n",
            "  inflating: ./datasets/bus-api-parquet/2023-05-21_160000.jsonl.parquet  \n",
            "  inflating: ./datasets/bus-api-parquet/2023-05-17_080000.jsonl.parquet  \n",
            "  inflating: ./datasets/bus-api-parquet/2023-05-17_200000.jsonl.parquet  \n",
            "  inflating: ./datasets/bus-api-parquet/2023-05-23_040000.jsonl.parquet  \n",
            "  inflating: ./datasets/bus-api-parquet/2023-05-16_130000.jsonl.parquet  \n",
            "  inflating: ./datasets/bus-api-parquet/2023-05-21_220000.jsonl.parquet  \n",
            "  inflating: ./datasets/bus-api-parquet/2023-05-23_180000.jsonl.parquet  \n",
            "  inflating: ./datasets/bus-api-parquet/2023-05-15_060000.jsonl.parquet  \n",
            "  inflating: ./datasets/bus-api-parquet/2023-05-17_140000.jsonl.parquet  \n",
            "  inflating: ./datasets/bus-api-parquet/2023-05-19_220000.jsonl.parquet  \n",
            "  inflating: ./datasets/bus-api-parquet/2023-05-18_140000.jsonl.parquet  \n",
            "  inflating: ./datasets/bus-api-parquet/2023-05-22_060000.jsonl.parquet  \n",
            "  inflating: ./datasets/bus-api-parquet/2023-05-16_220000.jsonl.parquet  \n",
            "  inflating: ./datasets/bus-api-parquet/2023-05-19_130000.jsonl.parquet  \n",
            "  inflating: ./datasets/bus-api-parquet/2023-05-23_010000.jsonl.parquet  \n",
            "  inflating: ./datasets/bus-api-parquet/2023-05-15_030000.jsonl.parquet  \n",
            "  inflating: ./datasets/bus-api-parquet/2023-05-16_160000.jsonl.parquet  \n",
            "  inflating: ./datasets/bus-api-parquet/2023-05-20_080000.jsonl.parquet  \n",
            "  inflating: ./datasets/bus-api-parquet/2023-05-20_200000.jsonl.parquet  \n",
            "  inflating: ./datasets/bus-api-parquet/2023-05-17_110000.jsonl.parquet  \n",
            "  inflating: ./datasets/bus-api-parquet/2023-05-22_020000.jsonl.parquet  \n",
            "  inflating: ./datasets/bus-api-parquet/2023-05-17_090000.jsonl.parquet  \n",
            "  inflating: ./datasets/bus-api-parquet/2023-05-21_170000.jsonl.parquet  \n",
            "  inflating: ./datasets/bus-api-parquet/2023-05-18_100000.jsonl.parquet  \n",
            "  inflating: ./datasets/bus-api-parquet/2023-05-17_210000.jsonl.parquet  \n",
            "  inflating: ./datasets/bus-api-parquet/.DS_Store  \n",
            "  inflating: ./datasets/__MACOSX/bus-api-parquet/._.DS_Store  \n",
            "  inflating: ./datasets/bus-api-parquet/2023-05-16_120000.jsonl.parquet  \n",
            "  inflating: ./datasets/bus-api-parquet/2023-05-15_070000.jsonl.parquet  \n",
            "  inflating: ./datasets/bus-api-parquet/2023-05-23_190000.jsonl.parquet  \n",
            "  inflating: ./datasets/bus-api-parquet/2023-05-21_230000.jsonl.parquet  \n",
            "  inflating: ./datasets/bus-api-parquet/2023-05-17_150000.jsonl.parquet  \n",
            "  inflating: ./datasets/bus-api-parquet/2023-05-19_230000.jsonl.parquet  \n",
            "  inflating: ./datasets/bus-api-parquet/2023-05-18_150000.jsonl.parquet  \n",
            "  inflating: ./datasets/bus-api-parquet/2023-05-16_230000.jsonl.parquet  \n",
            "  inflating: ./datasets/bus-api-parquet/2023-05-19_120000.jsonl.parquet  \n",
            "  inflating: ./datasets/bus-api-parquet/2023-05-23_000000.jsonl.parquet  \n",
            "  inflating: ./datasets/bus-api-parquet/2023-05-15_020000.jsonl.parquet  \n",
            "  inflating: ./datasets/bus-api-parquet/2023-05-20_090000.jsonl.parquet  \n",
            "  inflating: ./datasets/bus-api-parquet/2023-05-16_170000.jsonl.parquet  \n",
            "  inflating: ./datasets/bus-api-parquet/2023-05-20_210000.jsonl.parquet  \n",
            "  inflating: ./datasets/bus-api-parquet/2023-05-17_100000.jsonl.parquet  \n",
            "  inflating: ./datasets/bus-api-parquet/2023-05-22_010000.jsonl.parquet  \n",
            "  inflating: ./datasets/bus-api-parquet/2023-05-15_180000.jsonl.parquet  \n",
            "  inflating: ./datasets/bus-api-parquet/2023-05-17_220000.jsonl.parquet  \n",
            "  inflating: ./datasets/bus-api-parquet/2023-05-19_140000.jsonl.parquet  \n",
            "  inflating: ./datasets/bus-api-parquet/2023-05-16_110000.jsonl.parquet  \n",
            "  inflating: ./datasets/bus-api-parquet/2023-05-19_080000.jsonl.parquet  \n",
            "  inflating: ./datasets/bus-api-parquet/2023-05-15_040000.jsonl.parquet  \n",
            "  inflating: ./datasets/bus-api-parquet/2023-05-21_200000.jsonl.parquet  \n",
            "  inflating: ./datasets/bus-api-parquet/2023-05-21_080000.jsonl.parquet  \n",
            "  inflating: ./datasets/bus-api-parquet/2023-05-17_160000.jsonl.parquet  \n",
            "  inflating: ./datasets/bus-api-parquet/2023-05-18_160000.jsonl.parquet  \n",
            "  inflating: ./datasets/bus-api-parquet/2023-05-16_200000.jsonl.parquet  \n",
            "  inflating: ./datasets/bus-api-parquet/2023-05-22_040000.jsonl.parquet  \n",
            "  inflating: ./datasets/bus-api-parquet/2023-05-19_110000.jsonl.parquet  \n",
            "  inflating: ./datasets/bus-api-parquet/2023-05-16_080000.jsonl.parquet  \n",
            "  inflating: ./datasets/bus-api-parquet/2023-05-23_030000.jsonl.parquet  \n",
            "  inflating: ./datasets/bus-api-parquet/2023-05-15_010000.jsonl.parquet  \n",
            "  inflating: ./datasets/bus-api-parquet/2023-05-16_140000.jsonl.parquet  \n",
            "  inflating: ./datasets/bus-api-parquet/2023-05-20_220000.jsonl.parquet  \n",
            "  inflating: ./datasets/bus-api-parquet/2023-05-22_180000.jsonl.parquet  \n",
            "  inflating: ./datasets/bus-api-parquet/2023-05-17_130000.jsonl.parquet  \n",
            "  inflating: ./datasets/bus-api-parquet/2023-05-22_000000.jsonl.parquet  \n",
            "  inflating: ./datasets/bus-api-parquet/2023-05-18_120000.jsonl.parquet  \n",
            "  inflating: ./datasets/bus-api-parquet/2023-05-17_230000.jsonl.parquet  \n",
            "  inflating: ./datasets/bus-api-parquet/2023-05-15_190000.jsonl.parquet  \n",
            "  inflating: ./datasets/bus-api-parquet/2023-05-19_090000.jsonl.parquet  \n",
            "  inflating: ./datasets/bus-api-parquet/2023-05-16_100000.jsonl.parquet  \n",
            "  inflating: ./datasets/bus-api-parquet/2023-05-21_210000.jsonl.parquet  \n",
            "  inflating: ./datasets/bus-api-parquet/2023-05-15_050000.jsonl.parquet  \n",
            "  inflating: ./datasets/bus-api-parquet/2023-05-17_170000.jsonl.parquet  \n",
            "  inflating: ./datasets/bus-api-parquet/2023-05-21_090000.jsonl.parquet  \n",
            "  inflating: ./datasets/bus-api-parquet/2023-05-19_210000.jsonl.parquet  \n",
            "  inflating: ./datasets/bus-api-parquet/2023-05-18_170000.jsonl.parquet  \n",
            "  inflating: ./datasets/bus-api-parquet/2023-05-22_050000.jsonl.parquet  \n",
            "  inflating: ./datasets/bus-api-parquet/2023-05-16_210000.jsonl.parquet  \n",
            "  inflating: ./datasets/bus-api-parquet/2023-05-20_170000.jsonl.parquet  \n",
            "  inflating: ./datasets/bus-api-parquet/2023-05-16_090000.jsonl.parquet  \n",
            "  inflating: ./datasets/bus-api-parquet/2023-05-19_100000.jsonl.parquet  \n",
            "  inflating: ./datasets/bus-api-parquet/2023-05-23_020000.jsonl.parquet  \n",
            "  inflating: ./datasets/bus-api-parquet/2023-05-15_000000.jsonl.parquet  \n",
            "  inflating: ./datasets/bus-api-parquet/2023-05-16_150000.jsonl.parquet  \n",
            "  inflating: ./datasets/bus-api-parquet/2023-05-22_190000.jsonl.parquet  \n",
            "  inflating: ./datasets/bus-api-parquet/2023-05-20_230000.jsonl.parquet  \n",
            "  inflating: ./datasets/bus-api-parquet/2023-05-17_120000.jsonl.parquet  \n",
            "  inflating: ./datasets/bus-api-parquet/2023-05-16_000000.jsonl.parquet  \n",
            "  inflating: ./datasets/bus-api-parquet/2023-05-15_150000.jsonl.parquet  \n",
            "  inflating: ./datasets/bus-api-parquet/2023-05-21_190000.jsonl.parquet  \n",
            "  inflating: ./datasets/bus-api-parquet/2023-05-17_070000.jsonl.parquet  \n",
            "  inflating: ./datasets/bus-api-parquet/2023-05-23_230000.jsonl.parquet  \n",
            "  inflating: ./datasets/bus-api-parquet/2023-05-21_050000.jsonl.parquet  \n",
            "  inflating: ./datasets/bus-api-parquet/2023-05-18_020000.jsonl.parquet  \n",
            "  inflating: ./datasets/bus-api-parquet/2023-05-15_210000.jsonl.parquet  \n",
            "  inflating: ./datasets/bus-api-parquet/2023-05-23_170000.jsonl.parquet  \n",
            "  inflating: ./datasets/bus-api-parquet/2023-05-15_090000.jsonl.parquet  \n",
            "  inflating: ./datasets/bus-api-parquet/2023-05-20_020000.jsonl.parquet  \n",
            "  inflating: ./datasets/bus-api-parquet/2023-05-19_050000.jsonl.parquet  \n",
            "  inflating: ./datasets/bus-api-parquet/2023-05-15_100000.jsonl.parquet  \n",
            "  inflating: ./datasets/bus-api-parquet/2023-05-22_210000.jsonl.parquet  \n",
            "  inflating: ./datasets/bus-api-parquet/2023-05-16_050000.jsonl.parquet  \n",
            "  inflating: ./datasets/bus-api-parquet/2023-05-24_000000.jsonl.parquet  \n",
            "  inflating: ./datasets/bus-api-parquet/2023-05-17_020000.jsonl.parquet  \n",
            "  inflating: ./datasets/bus-api-parquet/2023-05-21_000000.jsonl.parquet  \n",
            "  inflating: ./datasets/bus-api-parquet/2023-05-22_150000.jsonl.parquet  \n",
            "  inflating: ./datasets/bus-api-parquet/2023-05-19_000000.jsonl.parquet  \n",
            "  inflating: ./datasets/bus-api-parquet/2023-05-16_190000.jsonl.parquet  \n",
            "  inflating: ./datasets/bus-api-parquet/2023-05-20_070000.jsonl.parquet  \n",
            "  inflating: ./datasets/bus-api-parquet/2023-05-23_120000.jsonl.parquet  \n",
            "  inflating: ./datasets/bus-api-parquet/2023-05-16_010000.jsonl.parquet  \n",
            "  inflating: ./datasets/bus-api-parquet/2023-05-15_140000.jsonl.parquet  \n",
            "  inflating: ./datasets/bus-api-parquet/2023-05-23_220000.jsonl.parquet  \n",
            "  inflating: ./datasets/bus-api-parquet/2023-05-17_060000.jsonl.parquet  \n",
            "  inflating: ./datasets/bus-api-parquet/2023-05-21_180000.jsonl.parquet  \n",
            "  inflating: ./datasets/bus-api-parquet/2023-05-15_200000.jsonl.parquet  \n",
            "  inflating: ./datasets/bus-api-parquet/2023-05-18_030000.jsonl.parquet  \n",
            "  inflating: ./datasets/bus-api-parquet/2023-05-21_040000.jsonl.parquet  \n",
            "  inflating: ./datasets/bus-api-parquet/2023-05-15_080000.jsonl.parquet  \n",
            "  inflating: ./datasets/bus-api-parquet/2023-05-23_160000.jsonl.parquet  \n",
            "  inflating: ./datasets/bus-api-parquet/2023-05-19_040000.jsonl.parquet  \n",
            "  inflating: ./datasets/bus-api-parquet/2023-05-20_030000.jsonl.parquet  \n",
            "  inflating: ./datasets/bus-api-parquet/2023-05-15_110000.jsonl.parquet  \n",
            "  inflating: ./datasets/bus-api-parquet/2023-05-16_040000.jsonl.parquet  \n",
            "  inflating: ./datasets/bus-api-parquet/2023-05-22_200000.jsonl.parquet  \n",
            "  inflating: ./datasets/bus-api-parquet/2023-05-24_010000.jsonl.parquet  \n",
            "  inflating: ./datasets/bus-api-parquet/2023-05-17_030000.jsonl.parquet  \n",
            "  inflating: ./datasets/bus-api-parquet/2023-05-21_010000.jsonl.parquet  \n",
            "  inflating: ./datasets/bus-api-parquet/2023-05-22_140000.jsonl.parquet  \n",
            "  inflating: ./datasets/bus-api-parquet/2023-05-20_060000.jsonl.parquet  \n",
            "  inflating: ./datasets/bus-api-parquet/2023-05-16_180000.jsonl.parquet  \n",
            "  inflating: ./datasets/bus-api-parquet/2023-05-23_130000.jsonl.parquet  \n",
            "  inflating: ./datasets/bus-api-parquet/2023-05-16_020000.jsonl.parquet  \n",
            "   creating: ./datasets/bus-api-parquet/.ipynb_checkpoints/\n",
            "  inflating: ./datasets/bus-api-parquet/2023-05-15_170000.jsonl.parquet  \n",
            "  inflating: ./datasets/bus-api-parquet/2023-05-23_210000.jsonl.parquet  \n",
            "  inflating: ./datasets/bus-api-parquet/2023-05-17_050000.jsonl.parquet  \n",
            "  inflating: ./datasets/bus-api-parquet/2023-05-15_230000.jsonl.parquet  \n",
            "  inflating: ./datasets/bus-api-parquet/2023-05-18_000000.jsonl.parquet  \n",
            "  inflating: ./datasets/bus-api-parquet/2023-05-21_070000.jsonl.parquet  \n",
            "  inflating: ./datasets/bus-api-parquet/2023-05-17_190000.jsonl.parquet  \n",
            "  inflating: ./datasets/bus-api-parquet/2023-05-23_150000.jsonl.parquet  \n",
            "  inflating: ./datasets/bus-api-parquet/2023-05-19_070000.jsonl.parquet  \n",
            "  inflating: ./datasets/bus-api-parquet/2023-05-20_000000.jsonl.parquet  \n",
            "  inflating: ./datasets/bus-api-parquet/2023-05-15_120000.jsonl.parquet  \n",
            "  inflating: ./datasets/bus-api-parquet/2023-05-24_020000.jsonl.parquet  \n",
            "  inflating: ./datasets/bus-api-parquet/2023-05-16_070000.jsonl.parquet  \n",
            "  inflating: ./datasets/bus-api-parquet/2023-05-20_190000.jsonl.parquet  \n",
            "  inflating: ./datasets/bus-api-parquet/2023-05-22_230000.jsonl.parquet  \n",
            "  inflating: ./datasets/bus-api-parquet/2023-05-17_000000.jsonl.parquet  \n",
            "  inflating: ./datasets/bus-api-parquet/2023-05-21_020000.jsonl.parquet  \n",
            "  inflating: ./datasets/bus-api-parquet/2023-05-22_170000.jsonl.parquet  \n",
            "  inflating: ./datasets/bus-api-parquet/2023-05-20_050000.jsonl.parquet  \n",
            "  inflating: ./datasets/bus-api-parquet/2023-05-19_020000.jsonl.parquet  \n",
            "  inflating: ./datasets/bus-api-parquet/2023-05-24_060000.jsonl.parquet  \n",
            "  inflating: ./datasets/bus-api-parquet/2023-05-16_030000.jsonl.parquet  \n",
            "  inflating: ./datasets/bus-api-parquet/2023-05-15_160000.jsonl.parquet  \n",
            "  inflating: ./datasets/bus-api-parquet/2023-05-17_040000.jsonl.parquet  \n",
            "  inflating: ./datasets/bus-api-parquet/2023-05-23_200000.jsonl.parquet  \n",
            "  inflating: ./datasets/bus-api-parquet/2023-05-22_130000.jsonl.parquet  \n",
            "  inflating: ./datasets/bus-api-parquet/2023-05-17_180000.jsonl.parquet  \n",
            "  inflating: ./datasets/bus-api-parquet/2023-05-21_060000.jsonl.parquet  \n",
            "  inflating: ./datasets/bus-api-parquet/2023-05-18_010000.jsonl.parquet  \n",
            "  inflating: ./datasets/bus-api-parquet/2023-05-15_220000.jsonl.parquet  \n",
            "  inflating: ./datasets/bus-api-parquet/2023-05-23_140000.jsonl.parquet  \n",
            "  inflating: ./datasets/bus-api-parquet/2023-05-20_010000.jsonl.parquet  \n",
            "  inflating: ./datasets/bus-api-parquet/2023-05-19_060000.jsonl.parquet  \n",
            "  inflating: ./datasets/bus-api-parquet/2023-05-15_130000.jsonl.parquet  \n",
            "  inflating: ./datasets/bus-api-parquet/2023-05-22_220000.jsonl.parquet  \n",
            "  inflating: ./datasets/bus-api-parquet/2023-05-20_180000.jsonl.parquet  \n",
            "  inflating: ./datasets/bus-api-parquet/2023-05-16_060000.jsonl.parquet  \n",
            "  inflating: ./datasets/bus-api-parquet/2023-05-18_180000.jsonl.parquet  \n",
            "  inflating: ./datasets/bus-api-parquet/2023-05-17_010000.jsonl.parquet  \n",
            "  inflating: ./datasets/bus-api-parquet/2023-05-21_030000.jsonl.parquet  \n",
            "  inflating: ./datasets/bus-api-parquet/2023-05-22_160000.jsonl.parquet  \n",
            "  inflating: ./datasets/bus-api-parquet/2023-05-19_030000.jsonl.parquet  \n",
            "  inflating: ./datasets/bus-api-parquet/2023-05-20_040000.jsonl.parquet  \n",
            "  inflating: ./datasets/bus-api-parquet/2023-05-23_110000.jsonl.parquet  \n"
          ]
        }
      ]
    },
    {
      "cell_type": "code",
      "source": [
        "\n",
        "\n",
        "df = spark.read.format(\n",
        "    \"parquet\"\n",
        ").load(\n",
        "    f\"./datasets/bus-api-parquet/*.parquet\"\n",
        ")"
      ],
      "metadata": {
        "id": "7QXGYIY0iHgL"
      },
      "execution_count": null,
      "outputs": []
    },
    {
      "cell_type": "code",
      "source": [
        "shape(df)"
      ],
      "metadata": {
        "colab": {
          "base_uri": "https://localhost:8080/"
        },
        "id": "g_jFJekSoDdO",
        "outputId": "59b6323f-bccf-4faf-e748-3e3719b808b1"
      },
      "execution_count": null,
      "outputs": [
        {
          "output_type": "execute_result",
          "data": {
            "text/plain": [
              "(75212501, 8)"
            ]
          },
          "metadata": {},
          "execution_count": 8
        }
      ]
    },
    {
      "cell_type": "code",
      "source": [
        "df.show()"
      ],
      "metadata": {
        "colab": {
          "base_uri": "https://localhost:8080/"
        },
        "id": "6GqwQFgDoMIZ",
        "outputId": "0fee1d05-431c-481e-b23d-5b477a8efb28"
      },
      "execution_count": null,
      "outputs": [
        {
          "output_type": "stream",
          "name": "stdout",
          "text": [
            "+------+---------+---------+-------------+----------+-----+-------------+----------------+\n",
            "| ordem| latitude|longitude|     datahora|velocidade|linha|datahoraenvio|datahoraservidor|\n",
            "+------+---------+---------+-------------+----------+-----+-------------+----------------+\n",
            "|B27026|-22,87052|-43,33811|1684324793000|         0|  639|1684324800000|   1684324828000|\n",
            "|B27033|-22,82531| -43,2955|1684324790000|        42|  905|1684324800000|   1684324828000|\n",
            "|C27198|-22,86548|-43,29972|1684324784000|         0|  292|1684324800000|   1684324828000|\n",
            "|B27126|-22,85722|-43,32907|1684324597000|         0|  774|1684324800000|   1684324828000|\n",
            "|B27111|-22,88118| -43,2575|1684324793000|         0|SP265|1684324800000|   1684324828000|\n",
            "|C27028|-22,83632|-43,30833|1684324787000|         0|  775|1684324800000|   1684324828000|\n",
            "|C27165|-22,82391|-43,29611|1684324792000|         4|  905|1684324800000|   1684324828000|\n",
            "|B27044|-22,91452|-43,23565|1684324793000|        45|  639|1684324800000|   1684324828000|\n",
            "|C27119|-22,87005|-43,34139|1684324791000|         0|  774|1684324800000|   1684324828000|\n",
            "|C27106|-22,86766|-43,25294|1684324789000|        42|  905|1684324800000|   1684324828000|\n",
            "|B27107|-22,86506| -43,2934|1684324782000|        35|  629|1684324800000|   1684324828000|\n",
            "|C27200|-22,82716| -43,3254|1684324790000|        22|  629|1684324800000|   1684324828000|\n",
            "|C27029|-22,84944|-43,32546|1684324789000|        37|SV774|1684324800000|   1684324828000|\n",
            "|B27135|-22,82802|-43,27891|1684324794000|        22|  905|1684324800000|   1684324828000|\n",
            "|C27004|-22,86219|-43,24824|1684324791000|         8|  355|1684324800000|   1684324828000|\n",
            "|B27126|-22,85722|-43,32907|1684324627000|         0|  774|1684324800000|   1684324828000|\n",
            "|B27164|-22,88386| -43,3193|1684324791000|        14|  639|1684324800000|   1684324828000|\n",
            "|B27019|-22,92284|-43,23241|1684324789000|         0|  629|1684324800000|   1684324828000|\n",
            "|B27216|-22,90269| -43,2182|1684324787000|        16|  292|1684324800000|   1684324828000|\n",
            "|B27043|-22,88428|-43,29108|1684324791000|        32|  265|1684324800000|   1684324828000|\n",
            "+------+---------+---------+-------------+----------+-----+-------------+----------------+\n",
            "only showing top 20 rows\n",
            "\n"
          ]
        }
      ]
    },
    {
      "cell_type": "code",
      "source": [
        "from pyspark.sql import functions as f\n",
        "from pyspark.sql.functions import *"
      ],
      "metadata": {
        "id": "OSLVaY5-2vQl"
      },
      "execution_count": null,
      "outputs": []
    },
    {
      "cell_type": "code",
      "source": [
        "df_on_garage = df.filter(col(\"linha\").contains(\"GARAGEM\")).groupBy(\"ordem\").agg(f.min(from_unixtime(col(\"datahoraenvio\") / 1000 , )).alias(\"entrada\"), f.max(from_unixtime(col(\"datahoraenvio\") / 1000, \"yyyy-MM-dd HH:mm:ss\" )).alias(\"saida\"))"
      ],
      "metadata": {
        "id": "N29KFqb237HE"
      },
      "execution_count": null,
      "outputs": []
    },
    {
      "cell_type": "code",
      "source": [
        "df_time_on_garage = df_on_garage.withColumn(\"Tempo na Garagem (em minutos)\",(to_timestamp(col(\"saida\")) - to_timestamp(col(\"entrada\"))).cast(\"bigInt\") /60 )\n"
      ],
      "metadata": {
        "id": "REDUwb-Q7A07"
      },
      "execution_count": null,
      "outputs": []
    },
    {
      "cell_type": "code",
      "source": [
        "df_roaming = df.where(~col(\"linha\").contains(\"GARAGEM\")).groupBy(\"ordem\").agg(f.min(from_unixtime(col(\"datahoraenvio\") / 1000 , )).alias(\"inicio\"), f.max(from_unixtime(col(\"datahoraenvio\") / 1000, \"yyyy-MM-dd HH:mm:ss\" )).alias(\"fim\"))"
      ],
      "metadata": {
        "id": "w5WLAPfP9dSB"
      },
      "execution_count": null,
      "outputs": []
    },
    {
      "cell_type": "code",
      "source": [
        "df_time_roaming = df_roaming.withColumn(\"Tempo Rodando (em minutos)\",(to_timestamp(col(\"fim\")) - to_timestamp(col(\"inicio\"))).cast(\"bigInt\") /60 )\n"
      ],
      "metadata": {
        "id": "U1J385186QyI"
      },
      "execution_count": null,
      "outputs": []
    },
    {
      "cell_type": "code",
      "source": [
        "joined_df = df_time_roaming.join(df_time_on_garage, on=\"ordem\", how=\"inner\")\n",
        "joined_df = joined_df.withColumn(\"Porcentagem de tempo rodando\", col(\"Tempo Rodando (em minutos)\") / (col(\"Tempo Rodando (em minutos)\") + col(\"Tempo na Garagem (em minutos)\"))\n",
        ").withColumn(\"Porcentagem de tempo na garagem\", col(\"Tempo na Garagem (em minutos)\") / (col(\"Tempo Rodando (em minutos)\") + col(\"Tempo na Garagem (em minutos)\")))\n",
        "joined_df.show()"
      ],
      "metadata": {
        "id": "isZ3pHin--L7",
        "colab": {
          "base_uri": "https://localhost:8080/"
        },
        "outputId": "9e2438d0-e4e7-41cb-f121-5c2901056584"
      },
      "execution_count": null,
      "outputs": [
        {
          "output_type": "stream",
          "name": "stdout",
          "text": [
            "+------+-------------------+-------------------+--------------------------+-------------------+-------------------+-----------------------------+----------------------------+-------------------------------+\n",
            "| ordem|             inicio|                fim|Tempo Rodando (em minutos)|            entrada|              saida|Tempo na Garagem (em minutos)|Porcentagem de tempo rodando|Porcentagem de tempo na garagem|\n",
            "+------+-------------------+-------------------+--------------------------+-------------------+-------------------+-----------------------------+----------------------------+-------------------------------+\n",
            "| 29107|2023-05-15 03:03:24|2023-05-24 09:58:15|                  13374.85|2023-05-15 16:51:31|2023-05-15 18:15:29|            83.96666666666667|          0.9937612147675191|           0.006238785232480814|\n",
            "|A27509|2023-05-15 09:01:44|2023-05-23 07:59:31|        11457.783333333333|2023-05-15 03:20:56|2023-05-24 09:34:22|           13333.433333333332|          0.4621710780632657|             0.5378289219367343|\n",
            "|A27515|2023-05-15 09:04:53|2023-05-24 09:59:55|        13015.033333333333|2023-05-15 03:08:28|2023-05-24 05:41:57|           13113.483333333334|          0.4981160430717141|             0.5018839569282859|\n",
            "|A27517|2023-05-15 08:11:38|2023-05-24 09:59:34|        13067.933333333332|2023-05-15 03:12:59|2023-05-24 05:40:55|           13107.933333333332|         0.49923593742836914|             0.5007640625716309|\n",
            "|A27522|2023-05-15 07:47:41|2023-05-24 09:59:34|        13091.883333333333|2023-05-15 03:07:16|2023-05-24 05:33:28|                      13106.2|         0.49972676118163856|             0.5002732388183614|\n",
            "|A27537|2023-05-15 08:16:52|2023-05-24 09:59:34|                   13062.7|2023-05-15 03:00:08|2023-05-24 05:37:07|           13116.983333333334|          0.4989632545848212|             0.5010367454151788|\n",
            "|A27544|2023-05-15 07:53:06|2023-05-24 09:59:44|        13086.633333333333|2023-05-15 03:15:03|2023-05-24 05:57:08|           13122.083333333334|            0.49932369828613|               0.50067630171387|\n",
            "|A27556|2023-05-16 08:56:25|2023-05-24 09:59:34|                  11583.15|2023-05-15 03:20:35|2023-05-24 05:56:27|           13115.866666666667|          0.4689721115752921|             0.5310278884247078|\n",
            "|A27559|2023-05-15 07:18:57|2023-05-24 09:59:34|        13120.616666666667|2023-05-15 03:12:59|2023-05-24 05:31:44|                     13098.75|          0.5004169945625434|             0.4995830054374565|\n",
            "|A27560|2023-05-15 08:38:44|2023-05-24 09:59:34|        13040.833333333334|2023-05-15 03:24:34|2023-05-24 05:47:50|           13103.266666666666|          0.4988059766193265|             0.5011940233806735|\n",
            "|A27565|2023-05-15 07:22:37|2023-05-24 09:59:55|                   13117.3|2023-05-15 03:22:29|2023-05-24 05:40:44|                     13098.25|          0.5003633339754459|            0.49963666602455414|\n",
            "|A27567|2023-05-15 15:38:19|2023-05-24 09:59:44|        12621.416666666666|2023-05-15 03:00:08|2023-05-24 05:54:11|                     13134.05|          0.4900480674652889|              0.509951932534711|\n",
            "|A27571|2023-05-15 09:13:30|2023-05-24 09:59:55|        13006.416666666666|2023-05-15 03:15:55|2023-05-24 05:31:54|           13095.983333333334|           0.498284321237383|             0.5017156787626169|\n",
            "|A27574|2023-05-15 08:28:39|2023-05-24 09:59:55|        13051.266666666666|2023-05-15 03:17:08|2023-05-24 05:35:34|           13098.433333333332|          0.4990981413426031|              0.500901858657397|\n",
            "|A27582|2023-05-15 03:00:08|2023-05-24 09:59:44|                   13379.6|2023-05-15 03:08:08|2023-05-24 05:48:08|                      13120.0|          0.5048981871424475|             0.4951018128575526|\n",
            "|A27588|2023-05-15 07:21:24|2023-05-24 09:59:55|        13118.516666666666|2023-05-15 03:02:24|2023-05-24 05:37:07|           13114.716666666667|          0.5000724272138267|             0.4999275727861733|\n",
            "|A27589|2023-05-15 06:51:54|2023-05-24 09:59:55|        13148.016666666666|2023-05-15 03:00:29|2023-05-24 09:12:30|           13332.016666666666|          0.4965256841318176|             0.5034743158681825|\n",
            "|A27594|2023-05-15 03:00:08|2023-05-24 09:59:34|        13379.433333333332|2023-05-15 03:40:07|2023-05-24 05:55:35|           13095.466666666667|          0.5053629412512731|            0.49463705874872677|\n",
            "|A27597|2023-05-15 06:30:34|2023-05-24 09:59:55|                  13169.35|2023-05-15 03:26:48|2023-05-24 05:58:21|                     13111.55|          0.5010996579264789|              0.498900342073521|\n",
            "|A27606|2023-05-15 18:45:52|2023-05-24 09:59:44|        12433.866666666667|2023-05-15 03:12:17|2023-05-24 03:02:15|           12949.966666666667|          0.4898340807469321|             0.5101659192530679|\n",
            "+------+-------------------+-------------------+--------------------------+-------------------+-------------------+-----------------------------+----------------------------+-------------------------------+\n",
            "only showing top 20 rows\n",
            "\n"
          ]
        }
      ]
    },
    {
      "cell_type": "code",
      "source": [
        "\n",
        "\n",
        "df_avg_speed = df.filter(\n",
        "    col(\"velocidade\") > 0\n",
        ").groupBy(\n",
        "    \"ordem\"\n",
        ").agg(\n",
        "    avg(col(\"velocidade\")).alias(\"avg_velocidade\")\n",
        ").orderBy(\n",
        "    # col(\"ordem\").asc()\n",
        "    col(\"avg_velocidade\").desc()\n",
        ")\n"
      ],
      "metadata": {
        "id": "UqINMWI0olZC"
      },
      "execution_count": null,
      "outputs": []
    },
    {
      "cell_type": "code",
      "source": [
        "df_avg_speed.show()"
      ],
      "metadata": {
        "colab": {
          "base_uri": "https://localhost:8080/"
        },
        "id": "Yqg20hN5o0Oc",
        "outputId": "29fd0a6c-22b1-424d-d8b9-d1e484f97fdd"
      },
      "execution_count": null,
      "outputs": [
        {
          "output_type": "stream",
          "name": "stdout",
          "text": [
            "+------+------------------+\n",
            "| ordem|    avg_velocidade|\n",
            "+------+------------------+\n",
            "|B32537| 65.81964615790864|\n",
            "|B44616| 49.35725505595916|\n",
            "|B32623| 48.54131118096093|\n",
            "|B32666| 46.99263664684226|\n",
            "|B44618|45.361522430624106|\n",
            "|B32588| 44.59836229279009|\n",
            "|C47865|44.424344176285416|\n",
            "|C47828| 43.95595290013083|\n",
            "|C47824| 43.69706709521896|\n",
            "|B63107| 43.63815028901734|\n",
            "|C47861| 43.62799740764744|\n",
            "|C27022| 43.56431724767849|\n",
            "|C47656| 42.99435435435436|\n",
            "|C47860| 42.62111197511664|\n",
            "|C47867| 42.58265424912689|\n",
            "|B32548| 42.46973803071364|\n",
            "|A63526|42.175174637291775|\n",
            "|C12015| 41.90256554044581|\n",
            "|C47739|41.731054977711736|\n",
            "|B32668| 41.64514731369151|\n",
            "+------+------------------+\n",
            "only showing top 20 rows\n",
            "\n"
          ]
        }
      ]
    },
    {
      "cell_type": "code",
      "source": [
        "df_sp_lines = df.withColumn(\"Special?\", col(\"Linha\").contains(\"SP\"))\n"
      ],
      "metadata": {
        "id": "D2vo6SFko_SU"
      },
      "execution_count": null,
      "outputs": []
    },
    {
      "cell_type": "code",
      "source": [
        "df_sp_lines.show()"
      ],
      "metadata": {
        "id": "oc1z2WU04N98",
        "colab": {
          "base_uri": "https://localhost:8080/"
        },
        "outputId": "875894c9-7482-4a47-f92d-a38f1d49beed"
      },
      "execution_count": null,
      "outputs": [
        {
          "output_type": "stream",
          "name": "stdout",
          "text": [
            "+------+---------+---------+-------------+----------+-----+-------------+----------------+--------+\n",
            "| ordem| latitude|longitude|     datahora|velocidade|linha|datahoraenvio|datahoraservidor|Special?|\n",
            "+------+---------+---------+-------------+----------+-----+-------------+----------------+--------+\n",
            "|B27026|-22,87052|-43,33811|1684324793000|         0|  639|1684324800000|   1684324828000|   false|\n",
            "|B27033|-22,82531| -43,2955|1684324790000|        42|  905|1684324800000|   1684324828000|   false|\n",
            "|C27198|-22,86548|-43,29972|1684324784000|         0|  292|1684324800000|   1684324828000|   false|\n",
            "|B27126|-22,85722|-43,32907|1684324597000|         0|  774|1684324800000|   1684324828000|   false|\n",
            "|B27111|-22,88118| -43,2575|1684324793000|         0|SP265|1684324800000|   1684324828000|    true|\n",
            "|C27028|-22,83632|-43,30833|1684324787000|         0|  775|1684324800000|   1684324828000|   false|\n",
            "|C27165|-22,82391|-43,29611|1684324792000|         4|  905|1684324800000|   1684324828000|   false|\n",
            "|B27044|-22,91452|-43,23565|1684324793000|        45|  639|1684324800000|   1684324828000|   false|\n",
            "|C27119|-22,87005|-43,34139|1684324791000|         0|  774|1684324800000|   1684324828000|   false|\n",
            "|C27106|-22,86766|-43,25294|1684324789000|        42|  905|1684324800000|   1684324828000|   false|\n",
            "|B27107|-22,86506| -43,2934|1684324782000|        35|  629|1684324800000|   1684324828000|   false|\n",
            "|C27200|-22,82716| -43,3254|1684324790000|        22|  629|1684324800000|   1684324828000|   false|\n",
            "|C27029|-22,84944|-43,32546|1684324789000|        37|SV774|1684324800000|   1684324828000|   false|\n",
            "|B27135|-22,82802|-43,27891|1684324794000|        22|  905|1684324800000|   1684324828000|   false|\n",
            "|C27004|-22,86219|-43,24824|1684324791000|         8|  355|1684324800000|   1684324828000|   false|\n",
            "|B27126|-22,85722|-43,32907|1684324627000|         0|  774|1684324800000|   1684324828000|   false|\n",
            "|B27164|-22,88386| -43,3193|1684324791000|        14|  639|1684324800000|   1684324828000|   false|\n",
            "|B27019|-22,92284|-43,23241|1684324789000|         0|  629|1684324800000|   1684324828000|   false|\n",
            "|B27216|-22,90269| -43,2182|1684324787000|        16|  292|1684324800000|   1684324828000|   false|\n",
            "|B27043|-22,88428|-43,29108|1684324791000|        32|  265|1684324800000|   1684324828000|   false|\n",
            "+------+---------+---------+-------------+----------+-----+-------------+----------------+--------+\n",
            "only showing top 20 rows\n",
            "\n"
          ]
        }
      ]
    },
    {
      "cell_type": "code",
      "source": [
        "df_period_pre = df.filter(\n",
        "    col(\"velocidade\") > 0\n",
        ").withColumn(\n",
        "    \"dt_wrong\", from_unixtime(col(\"datahoraservidor\"), \"yyyy-MM-dd HH:mm:ss\")\n",
        ").withColumn(\n",
        "    \"dt\", from_unixtime(floor(col(\"datahoraservidor\") / 1000), \"yyyy-MM-dd HH:mm:ss\")\n",
        ").withColumn(\n",
        "    \"hora\", from_unixtime(floor(col(\"datahoraservidor\") / 1000), \"HHmm\").cast(\"int\")\n",
        ").withColumn(\n",
        "    \"periodo\",\n",
        "    expr(\n",
        "        \"\"\"\n",
        "        case\n",
        "        when hora >= 0 and hora <= 559 then 'Madrugada'\n",
        "        when hora >= 600 and hora <= 1159 then 'Manhã'\n",
        "        when hora >= 1200 and hora <= 1759 then 'Tarde'\n",
        "        when hora >= 1800 and hora <= 2359 then 'Noite'\n",
        "        else 'Erro'\n",
        "        end\n",
        "        \"\"\"\n",
        "    )\n",
        ").select(\"ordem\", \"latitude\", \"longitude\", \"velocidade\", \"linha\", \"dt_wrong\", \"dt\", \"hora\", \"periodo\")"
      ],
      "metadata": {
        "id": "O0B56U8RrT2P"
      },
      "execution_count": null,
      "outputs": []
    },
    {
      "cell_type": "code",
      "source": [
        "df_bigger_period = df_period_pre.groupBy(\"ordem\").agg(f.mode(col(\"periodo\"))).alias(\"PeriodoMaior\")"
      ],
      "metadata": {
        "id": "iEjRzR8AroNp"
      },
      "execution_count": null,
      "outputs": []
    },
    {
      "cell_type": "code",
      "source": [
        "df_bigger_period.show(30)"
      ],
      "metadata": {
        "colab": {
          "base_uri": "https://localhost:8080/"
        },
        "id": "7rvsJtvxEg9X",
        "outputId": "5e985eec-8894-4f52-a09b-4f5bd1c077c2"
      },
      "execution_count": null,
      "outputs": [
        {
          "output_type": "stream",
          "name": "stdout",
          "text": [
            "+------+-------------+\n",
            "| ordem|mode(periodo)|\n",
            "+------+-------------+\n",
            "| 29107|        Noite|\n",
            "|     A|        Tarde|\n",
            "|A27509|        Noite|\n",
            "|A27515|        Noite|\n",
            "|A27517|        Tarde|\n",
            "|A27522|        Noite|\n",
            "|A27537|        Noite|\n",
            "|A27544|        Noite|\n",
            "|A27556|        Noite|\n",
            "|A27559|        Noite|\n",
            "|A27560|        Noite|\n",
            "|A27565|        Manhã|\n",
            "|A27567|        Noite|\n",
            "|A27571|        Noite|\n",
            "|A27574|        Noite|\n",
            "|A27582|        Noite|\n",
            "|A27588|        Noite|\n",
            "|A27589|        Noite|\n",
            "|A27594|        Noite|\n",
            "|A27597|        Manhã|\n",
            "|A27606|        Noite|\n",
            "|A27611|        Noite|\n",
            "|A27615|        Manhã|\n",
            "|A27616|        Noite|\n",
            "|A27617|    Madrugada|\n",
            "|A27632|        Noite|\n",
            "|A27640|        Noite|\n",
            "|A27651|    Madrugada|\n",
            "|A27652|        Noite|\n",
            "|A27660|        Noite|\n",
            "+------+-------------+\n",
            "only showing top 30 rows\n",
            "\n"
          ]
        }
      ]
    },
    {
      "cell_type": "code",
      "source": [
        "centroLat = -22.90713839240253\n",
        "centroLong = -43.18219023728626\n",
        "zsLat = -22.96726870596604\n",
        "zsLong = -43.203039004608534\n",
        "zoLat = -22.97060306453973\n",
        "zoLong = -43.401314145834405\n",
        "znLat = -22.907728620624063\n",
        "znLong = -43.23845173896641"
      ],
      "metadata": {
        "id": "zODFGW75CTcY"
      },
      "execution_count": null,
      "outputs": []
    },
    {
      "cell_type": "code",
      "source": [
        "from pyspark.sql.types import FloatType\n",
        "from pyspark.sql.functions import regexp_replace\n",
        "df2 = df.withColumn(\"latitude\", regexp_replace(col(\"latitude\"),',','.'))\n",
        "df2 = df2.withColumn(\"longitude\", regexp_replace(col(\"longitude\"),',','.'))\n",
        "df2 = df2.withColumn(\"latitude\", col(\"latitude\").cast(FloatType()))\n",
        "df2 = df2.withColumn(\"longitude\", col(\"longitude\").cast(FloatType()))\n",
        "df2.show()"
      ],
      "metadata": {
        "colab": {
          "base_uri": "https://localhost:8080/"
        },
        "id": "rqoqPy9elmw5",
        "outputId": "bee65b02-c1aa-40ef-a0c9-1f624d699b82"
      },
      "execution_count": null,
      "outputs": [
        {
          "output_type": "stream",
          "name": "stdout",
          "text": [
            "+------+---------+---------+-------------+----------+-----+-------------+----------------+\n",
            "| ordem| latitude|longitude|     datahora|velocidade|linha|datahoraenvio|datahoraservidor|\n",
            "+------+---------+---------+-------------+----------+-----+-------------+----------------+\n",
            "|B27026|-22.87052|-43.33811|1684324793000|         0|  639|1684324800000|   1684324828000|\n",
            "|B27033|-22.82531| -43.2955|1684324790000|        42|  905|1684324800000|   1684324828000|\n",
            "|C27198|-22.86548|-43.29972|1684324784000|         0|  292|1684324800000|   1684324828000|\n",
            "|B27126|-22.85722|-43.32907|1684324597000|         0|  774|1684324800000|   1684324828000|\n",
            "|B27111|-22.88118| -43.2575|1684324793000|         0|SP265|1684324800000|   1684324828000|\n",
            "|C27028|-22.83632|-43.30833|1684324787000|         0|  775|1684324800000|   1684324828000|\n",
            "|C27165|-22.82391|-43.29611|1684324792000|         4|  905|1684324800000|   1684324828000|\n",
            "|B27044|-22.91452|-43.23565|1684324793000|        45|  639|1684324800000|   1684324828000|\n",
            "|C27119|-22.87005|-43.34139|1684324791000|         0|  774|1684324800000|   1684324828000|\n",
            "|C27106|-22.86766|-43.25294|1684324789000|        42|  905|1684324800000|   1684324828000|\n",
            "|B27107|-22.86506| -43.2934|1684324782000|        35|  629|1684324800000|   1684324828000|\n",
            "|C27200|-22.82716| -43.3254|1684324790000|        22|  629|1684324800000|   1684324828000|\n",
            "|C27029|-22.84944|-43.32546|1684324789000|        37|SV774|1684324800000|   1684324828000|\n",
            "|B27135|-22.82802|-43.27891|1684324794000|        22|  905|1684324800000|   1684324828000|\n",
            "|C27004|-22.86219|-43.24824|1684324791000|         8|  355|1684324800000|   1684324828000|\n",
            "|B27126|-22.85722|-43.32907|1684324627000|         0|  774|1684324800000|   1684324828000|\n",
            "|B27164|-22.88386| -43.3193|1684324791000|        14|  639|1684324800000|   1684324828000|\n",
            "|B27019|-22.92284|-43.23241|1684324789000|         0|  629|1684324800000|   1684324828000|\n",
            "|B27216|-22.90269| -43.2182|1684324787000|        16|  292|1684324800000|   1684324828000|\n",
            "|B27043|-22.88428|-43.29108|1684324791000|        32|  265|1684324800000|   1684324828000|\n",
            "+------+---------+---------+-------------+----------+-----+-------------+----------------+\n",
            "only showing top 20 rows\n",
            "\n"
          ]
        }
      ]
    },
    {
      "cell_type": "code",
      "source": [
        "from pyspark.sql import functions as F\n",
        "df2 = df2.withColumn('d_centro', (F.pow(F.sin(F.radians(lit(centroLat) - F.col(\"latitude\")) / 2), 2) +\n",
        "                                       F.cos(F.radians(F.col(\"latitude\").cast(FloatType()))) * F.cos(F.radians(lit(centroLat))) *\n",
        "                                       F.pow(F.sin(F.radians(lit(centroLong) - F.col(\"longitude\").cast(FloatType())) / 2), 2)))\n",
        "df2 = df2.withColumn('centro_distance_in_m', (F.atan2(F.sqrt(F.col(\"d_centro\")), F.sqrt(-F.col(\"d_centro\") + 1)) * 12742000).cast(FloatType()))"
      ],
      "metadata": {
        "id": "SBb__OVWVSSY"
      },
      "execution_count": null,
      "outputs": []
    },
    {
      "cell_type": "code",
      "source": [
        "df2 = df2.withColumn('d_zs', (F.pow(F.sin(F.radians(lit(zsLat) - F.col(\"latitude\")) / 2), 2) +\n",
        "                                       F.cos(F.radians(F.col(\"latitude\").cast(FloatType()))) * F.cos(F.radians(lit(zsLat))) *\n",
        "                                       F.pow(F.sin(F.radians(lit(zsLong) - F.col(\"longitude\").cast(FloatType())) / 2), 2)))\n",
        "df2 = df2.withColumn('zs_distance_in_m', (F.atan2(F.sqrt(F.col(\"d_zs\")), F.sqrt(-F.col(\"d_zs\") + 1)) * 12742000).cast(FloatType()))"
      ],
      "metadata": {
        "id": "Ax1mgRJ0oUnh"
      },
      "execution_count": null,
      "outputs": []
    },
    {
      "cell_type": "code",
      "source": [
        "df2 = df2.withColumn('d_zo', (F.pow(F.sin(F.radians(lit(zoLat) - F.col(\"latitude\")) / 2), 2) +\n",
        "                                       F.cos(F.radians(F.col(\"latitude\").cast(FloatType()))) * F.cos(F.radians(lit(zoLat))) *\n",
        "                                       F.pow(F.sin(F.radians(lit(zoLong) - F.col(\"longitude\").cast(FloatType())) / 2), 2)))\n",
        "df2 = df2.withColumn('zo_distance_in_m', (F.atan2(F.sqrt(F.col(\"d_zo\")), F.sqrt(-F.col(\"d_zo\") + 1)) * 12742000).cast(FloatType()))"
      ],
      "metadata": {
        "id": "muQm820hohHq"
      },
      "execution_count": null,
      "outputs": []
    },
    {
      "cell_type": "code",
      "source": [
        "df2 = df2.withColumn('d_zn', (F.pow(F.sin(F.radians(lit(znLat) - F.col(\"latitude\")) / 2), 2) +\n",
        "                                       F.cos(F.radians(F.col(\"latitude\").cast(FloatType()))) * F.cos(F.radians(lit(znLat))) *\n",
        "                                       F.pow(F.sin(F.radians(lit(znLong) - F.col(\"longitude\").cast(FloatType())) / 2), 2)))\n",
        "df2 = df2.withColumn('zn_distance_in_m', (F.atan2(F.sqrt(F.col(\"d_zn\")), F.sqrt(-F.col(\"d_zn\") + 1)) * 12742000).cast(FloatType()))"
      ],
      "metadata": {
        "id": "Iwb4u8k7ouQs"
      },
      "execution_count": null,
      "outputs": []
    },
    {
      "cell_type": "code",
      "source": [
        "from pyspark.sql.functions import when\n",
        "\n",
        "df2 = df2.withColumn('closest', when((col(\"centro_distance_in_m\") < col(\"zs_distance_in_m\")) & (col(\"centro_distance_in_m\") < col(\"zo_distance_in_m\")) & (col(\"centro_distance_in_m\") < col(\"zn_distance_in_m\")), 'Centro'\n",
        ").when((col(\"zs_distance_in_m\") < col(\"centro_distance_in_m\")) & (col(\"zs_distance_in_m\") < col(\"zo_distance_in_m\")) & (col(\"zs_distance_in_m\") < col(\"zn_distance_in_m\")), 'Zona Sul'\n",
        ").when((col(\"zo_distance_in_m\") < col(\"centro_distance_in_m\")) & (col(\"zo_distance_in_m\") < col(\"zs_distance_in_m\")) & (col(\"zo_distance_in_m\") < col(\"zn_distance_in_m\")), 'Zona Oeste'\n",
        ").when((col(\"zn_distance_in_m\") < col(\"centro_distance_in_m\")) & (col(\"zn_distance_in_m\") < col(\"zs_distance_in_m\")) & (col(\"zn_distance_in_m\") < col(\"zo_distance_in_m\")), 'Zona Norte'))"
      ],
      "metadata": {
        "id": "xWcsXxE4o6SR"
      },
      "execution_count": null,
      "outputs": []
    },
    {
      "cell_type": "code",
      "source": [
        "df2 = df2.groupBy(\"ordem\").agg(f.mode(col(\"closest\")).alias(\"Zona mais frequente\"))\n",
        "df2.show()"
      ],
      "metadata": {
        "colab": {
          "base_uri": "https://localhost:8080/"
        },
        "id": "fqaRZvOlgNjq",
        "outputId": "a8ad72ff-888f-482d-b2ee-3d1f70c75359"
      },
      "execution_count": null,
      "outputs": [
        {
          "output_type": "stream",
          "name": "stdout",
          "text": [
            "+------+-------------------+\n",
            "| ordem|Zona mais frequente|\n",
            "+------+-------------------+\n",
            "| 29107|           Zona Sul|\n",
            "|     A|           Zona Sul|\n",
            "|A27509|         Zona Norte|\n",
            "|A27515|         Zona Norte|\n",
            "|A27517|         Zona Norte|\n",
            "|A27522|         Zona Norte|\n",
            "|A27537|         Zona Norte|\n",
            "|A27544|           Zona Sul|\n",
            "|A27556|           Zona Sul|\n",
            "|A27559|         Zona Norte|\n",
            "|A27560|         Zona Norte|\n",
            "|A27565|           Zona Sul|\n",
            "|A27567|         Zona Norte|\n",
            "|A27571|           Zona Sul|\n",
            "|A27574|           Zona Sul|\n",
            "|A27582|           Zona Sul|\n",
            "|A27588|         Zona Norte|\n",
            "|A27589|         Zona Norte|\n",
            "|A27594|         Zona Norte|\n",
            "|A27597|         Zona Norte|\n",
            "+------+-------------------+\n",
            "only showing top 20 rows\n",
            "\n"
          ]
        }
      ]
    },
    {
      "cell_type": "code",
      "source": [
        "feature = joined_df.join(df_avg_speed, on=\"ordem\", how=\"left\").join(df2, on=\"ordem\", how=\"left\").join(df_bigger_period, on=\"ordem\", how=\"left\").select(\"ordem\", \"Porcentagem de tempo rodando\", \"Porcentagem de tempo na garagem\", \"avg_velocidade\", \"Zona mais frequente\", \"mode(periodo)\")\n",
        "feature.show()"
      ],
      "metadata": {
        "colab": {
          "base_uri": "https://localhost:8080/"
        },
        "id": "Nbp7Sqm-VWRH",
        "outputId": "fc03dcae-3c47-4168-c0c0-9985cd00f318"
      },
      "execution_count": 54,
      "outputs": [
        {
          "output_type": "stream",
          "name": "stdout",
          "text": [
            "+------+----------------------------+-------------------------------+------------------+-------------------+-------------+\n",
            "| ordem|Porcentagem de tempo rodando|Porcentagem de tempo na garagem|    avg_velocidade|Zona mais frequente|mode(periodo)|\n",
            "+------+----------------------------+-------------------------------+------------------+-------------------+-------------+\n",
            "| 29107|          0.9937612147675191|           0.006238785232480814|21.486394896840427|           Zona Sul|        Noite|\n",
            "|A27509|          0.4621710780632657|             0.5378289219367343| 24.26355767532238|         Zona Norte|        Noite|\n",
            "|A27515|          0.4981160430717141|             0.5018839569282859|23.580185415801854|         Zona Norte|        Noite|\n",
            "|A27517|         0.49923593742836914|             0.5007640625716309| 22.48117379070079|         Zona Norte|        Tarde|\n",
            "|A27522|         0.49972676118163856|             0.5002732388183614|22.747552447552447|         Zona Norte|        Noite|\n",
            "|A27537|          0.4989632545848212|             0.5010367454151788|24.413737222637746|         Zona Norte|        Noite|\n",
            "|A27544|            0.49932369828613|               0.50067630171387|25.023481490355817|           Zona Sul|        Noite|\n",
            "|A27556|          0.4689721115752921|             0.5310278884247078| 25.65372340425532|           Zona Sul|        Noite|\n",
            "|A27559|          0.5004169945625434|             0.4995830054374565|22.938871054039595|         Zona Norte|        Noite|\n",
            "|A27560|          0.4988059766193265|             0.5011940233806735| 21.50585761489937|         Zona Norte|        Noite|\n",
            "|A27565|          0.5003633339754459|            0.49963666602455414| 24.50779308786989|           Zona Sul|        Manhã|\n",
            "|A27567|          0.4900480674652889|              0.509951932534711| 23.78698517298188|         Zona Norte|        Noite|\n",
            "|A27571|           0.498284321237383|             0.5017156787626169|30.093392837705455|           Zona Sul|        Noite|\n",
            "|A27574|          0.4990981413426031|              0.500901858657397|23.379046293073444|           Zona Sul|        Noite|\n",
            "|A27582|          0.5048981871424475|             0.4951018128575526| 27.93938148566732|           Zona Sul|        Noite|\n",
            "|A27588|          0.5000724272138267|             0.4999275727861733| 23.80046403712297|         Zona Norte|        Noite|\n",
            "|A27589|          0.4965256841318176|             0.5034743158681825| 22.03351582320737|         Zona Norte|        Noite|\n",
            "|A27594|          0.5053629412512731|            0.49463705874872677|21.635823781245684|         Zona Norte|        Noite|\n",
            "|A27597|          0.5010996579264789|              0.498900342073521|24.974098961514965|         Zona Norte|        Manhã|\n",
            "|A27606|          0.4898340807469321|             0.5101659192530679|30.782456140350877|           Zona Sul|        Noite|\n",
            "+------+----------------------------+-------------------------------+------------------+-------------------+-------------+\n",
            "only showing top 20 rows\n",
            "\n"
          ]
        }
      ]
    },
    {
      "cell_type": "code",
      "source": [
        "graph = feature.withColumn(\n",
        "    \"Noite\",\n",
        "    when(col(\"mode(periodo)\") == \"Noite\", 1).otherwise(0)\n",
        "    ).withColumn(\n",
        "    \"Manha\",\n",
        "    when(col(\"mode(periodo)\") == \"Manhã\", 1).otherwise(0)\n",
        "    ).withColumn(\n",
        "    \"Tarde\",\n",
        "    when(col(\"mode(periodo)\") == \"Tarde\", 1).otherwise(0)\n",
        "    ).withColumn(\n",
        "    \"Madrugada\",\n",
        "    when(col(\"mode(periodo)\") == \"Madrugada\", 1).otherwise(0)\n",
        "    ).withColumn(\n",
        "        \"Centro\",\n",
        "        when(col(\"Zona mais frequente\") == \"Centro\", 1).otherwise(0)\n",
        "    ).withColumn(\n",
        "        \"Zona Sul\",\n",
        "        when(col(\"Zona mais frequente\") == \"Zona Sul\", 1).otherwise(0)\n",
        "    ).withColumn(\n",
        "        \"Zona Oeste\",\n",
        "        when(col(\"Zona mais frequente\") == \"Zona Oeste\", 1).otherwise(0)\n",
        "    ).withColumn(\n",
        "        \"Zona Norte\",\n",
        "        when(col(\"Zona mais frequente\") == \"Zona Norte\", 1).otherwise(0)\n",
        "    ).withColumn(\n",
        "        \"Velocidade Baixa\",\n",
        "        when(col(\"avg_velocidade\") < 20, 1).otherwise(0)\n",
        "    ).withColumn(\n",
        "        \"Velocidade Media\",\n",
        "        expr(\"case when avg_velocidade > 20 and avg_velocidade <= 60 then 1 else 0 end\")\n",
        "    ).withColumn(\n",
        "        \"Velocidade Alta\",\n",
        "        when(col(\"avg_velocidade\") < 60, 1).otherwise(0)\n",
        "    ).withColumn(\n",
        "        \"Garagem\",\n",
        "        when(col(\"Porcentagem de tempo rodando\") < col(\"Porcentagem de tempo na garagem\"), 1).otherwise(0)\n",
        "    ).withColumn(\n",
        "        \"Rodando\",\n",
        "        when(col(\"Porcentagem de tempo rodando\") > col(\"Porcentagem de tempo na garagem\"), 1).otherwise(0)\n",
        "    )\n"
      ],
      "metadata": {
        "id": "HYlpbsqI2dVb"
      },
      "execution_count": 63,
      "outputs": []
    },
    {
      "cell_type": "code",
      "source": [
        "graph = graph.select(\"ordem\", \"Noite\", \"Manha\", \"Tarde\", \"Madrugada\", \"Centro\", \"Zona Sul\", \"Zona Oeste\", \"Zona Norte\", \"Velocidade Baixa\", \"Velocidade Media\", \"Velocidade Alta\", \"Garagem\", \"Rodando\")\n",
        "graph.printSchema()\n"
      ],
      "metadata": {
        "colab": {
          "base_uri": "https://localhost:8080/"
        },
        "id": "N-TFIRggMQEl",
        "outputId": "237f71b5-7c5c-4966-b13c-d399342fe380"
      },
      "execution_count": 64,
      "outputs": [
        {
          "output_type": "stream",
          "name": "stdout",
          "text": [
            "root\n",
            " |-- ordem: string (nullable = true)\n",
            " |-- Noite: integer (nullable = false)\n",
            " |-- Manha: integer (nullable = false)\n",
            " |-- Tarde: integer (nullable = false)\n",
            " |-- Madrugada: integer (nullable = false)\n",
            " |-- Centro: integer (nullable = false)\n",
            " |-- Zona Sul: integer (nullable = false)\n",
            " |-- Zona Oeste: integer (nullable = false)\n",
            " |-- Zona Norte: integer (nullable = false)\n",
            " |-- Velocidade Baixa: integer (nullable = false)\n",
            " |-- Velocidade Media: integer (nullable = false)\n",
            " |-- Velocidade Alta: integer (nullable = false)\n",
            " |-- Garagem: integer (nullable = false)\n",
            " |-- Rodando: integer (nullable = false)\n",
            "\n"
          ]
        }
      ]
    },
    {
      "cell_type": "code",
      "source": [
        "shape(graph)"
      ],
      "metadata": {
        "id": "gNHsdcmkE47p",
        "outputId": "29dee3f2-d748-4150-9e23-e3b070dd341d",
        "colab": {
          "base_uri": "https://localhost:8080/"
        }
      },
      "execution_count": 67,
      "outputs": [
        {
          "output_type": "execute_result",
          "data": {
            "text/plain": [
              "(529, 14)"
            ]
          },
          "metadata": {},
          "execution_count": 67
        }
      ]
    },
    {
      "cell_type": "code",
      "source": [
        "! pip install scikit-learn seaborn\n",
        "import seaborn as sns"
      ],
      "metadata": {
        "colab": {
          "base_uri": "https://localhost:8080/"
        },
        "id": "qLk5tmYYytFJ",
        "outputId": "af7fef74-a8fc-43a0-c5ba-6de5d217940e"
      },
      "execution_count": null,
      "outputs": [
        {
          "output_type": "stream",
          "name": "stdout",
          "text": [
            "Requirement already satisfied: scikit-learn in /usr/local/lib/python3.10/dist-packages (1.2.2)\n",
            "Requirement already satisfied: seaborn in /usr/local/lib/python3.10/dist-packages (0.12.2)\n",
            "Requirement already satisfied: numpy>=1.17.3 in /usr/local/lib/python3.10/dist-packages (from scikit-learn) (1.23.5)\n",
            "Requirement already satisfied: scipy>=1.3.2 in /usr/local/lib/python3.10/dist-packages (from scikit-learn) (1.11.3)\n",
            "Requirement already satisfied: joblib>=1.1.1 in /usr/local/lib/python3.10/dist-packages (from scikit-learn) (1.3.2)\n",
            "Requirement already satisfied: threadpoolctl>=2.0.0 in /usr/local/lib/python3.10/dist-packages (from scikit-learn) (3.2.0)\n",
            "Requirement already satisfied: pandas>=0.25 in /usr/local/lib/python3.10/dist-packages (from seaborn) (1.5.3)\n",
            "Requirement already satisfied: matplotlib!=3.6.1,>=3.1 in /usr/local/lib/python3.10/dist-packages (from seaborn) (3.7.1)\n",
            "Requirement already satisfied: contourpy>=1.0.1 in /usr/local/lib/python3.10/dist-packages (from matplotlib!=3.6.1,>=3.1->seaborn) (1.1.1)\n",
            "Requirement already satisfied: cycler>=0.10 in /usr/local/lib/python3.10/dist-packages (from matplotlib!=3.6.1,>=3.1->seaborn) (0.12.0)\n",
            "Requirement already satisfied: fonttools>=4.22.0 in /usr/local/lib/python3.10/dist-packages (from matplotlib!=3.6.1,>=3.1->seaborn) (4.43.0)\n",
            "Requirement already satisfied: kiwisolver>=1.0.1 in /usr/local/lib/python3.10/dist-packages (from matplotlib!=3.6.1,>=3.1->seaborn) (1.4.5)\n",
            "Requirement already satisfied: packaging>=20.0 in /usr/local/lib/python3.10/dist-packages (from matplotlib!=3.6.1,>=3.1->seaborn) (23.1)\n",
            "Requirement already satisfied: pillow>=6.2.0 in /usr/local/lib/python3.10/dist-packages (from matplotlib!=3.6.1,>=3.1->seaborn) (9.4.0)\n",
            "Requirement already satisfied: pyparsing>=2.3.1 in /usr/local/lib/python3.10/dist-packages (from matplotlib!=3.6.1,>=3.1->seaborn) (3.1.1)\n",
            "Requirement already satisfied: python-dateutil>=2.7 in /usr/local/lib/python3.10/dist-packages (from matplotlib!=3.6.1,>=3.1->seaborn) (2.8.2)\n",
            "Requirement already satisfied: pytz>=2020.1 in /usr/local/lib/python3.10/dist-packages (from pandas>=0.25->seaborn) (2023.3.post1)\n",
            "Requirement already satisfied: six>=1.5 in /usr/local/lib/python3.10/dist-packages (from python-dateutil>=2.7->matplotlib!=3.6.1,>=3.1->seaborn) (1.16.0)\n"
          ]
        }
      ]
    },
    {
      "cell_type": "code",
      "source": [
        "dff = graph.toPandas()\n",
        "dff.shape"
      ],
      "metadata": {
        "colab": {
          "base_uri": "https://localhost:8080/"
        },
        "id": "Gg8_L7WFMyB7",
        "outputId": "334e7077-4672-4f50-d254-44d138d4c914"
      },
      "execution_count": 65,
      "outputs": [
        {
          "output_type": "execute_result",
          "data": {
            "text/plain": [
              "(529, 14)"
            ]
          },
          "metadata": {},
          "execution_count": 65
        }
      ]
    },
    {
      "cell_type": "code",
      "source": [
        "from sklearn.manifold import TSNE\n",
        "dff[\"id\"] = dff.index\n",
        "dff.columns"
      ],
      "metadata": {
        "id": "42iR4uH4znvq",
        "colab": {
          "base_uri": "https://localhost:8080/"
        },
        "outputId": "b2e34e7f-4469-409b-c785-81837c6b6d2d"
      },
      "execution_count": 68,
      "outputs": [
        {
          "output_type": "execute_result",
          "data": {
            "text/plain": [
              "Index(['ordem', 'Noite', 'Manha', 'Tarde', 'Madrugada', 'Centro', 'Zona Sul',\n",
              "       'Zona Oeste', 'Zona Norte', 'Velocidade Baixa', 'Velocidade Media',\n",
              "       'Velocidade Alta', 'Garagem', 'Rodando', 'id'],\n",
              "      dtype='object')"
            ]
          },
          "metadata": {},
          "execution_count": 68
        }
      ]
    },
    {
      "cell_type": "code",
      "source": [
        "dff2 = dff[[\"Tarde\", \"Manha\", \"Noite\", \"Madrugada\", \"Centro\", \"Zona Sul\", \"Zona Oeste\", \"Zona Norte\", \"Velocidade Baixa\", \"Velocidade Media\", \"Velocidade Alta\", \"Garagem\", \"Rodando\"]]"
      ],
      "metadata": {
        "id": "qVZP5dYH2Jgm"
      },
      "execution_count": 69,
      "outputs": []
    },
    {
      "cell_type": "code",
      "source": [
        "dff2.head()"
      ],
      "metadata": {
        "colab": {
          "base_uri": "https://localhost:8080/",
          "height": 206
        },
        "id": "qcwYGk3rKcjH",
        "outputId": "778646ea-70a0-434f-9f9d-841af1467ddf"
      },
      "execution_count": 70,
      "outputs": [
        {
          "output_type": "execute_result",
          "data": {
            "text/plain": [
              "   Tarde  Manha  Noite  Madrugada  Centro  Zona Sul  Zona Oeste  Zona Norte  \\\n",
              "0      0      0      1          0       0         1           0           0   \n",
              "1      0      0      1          0       0         0           0           1   \n",
              "2      0      0      1          0       0         0           0           1   \n",
              "3      1      0      0          0       0         0           0           1   \n",
              "4      0      0      1          0       0         0           0           1   \n",
              "\n",
              "   Velocidade Baixa  Velocidade Media  Velocidade Alta  Garagem  Rodando  \n",
              "0                 0                 1                1        0        1  \n",
              "1                 0                 1                1        1        0  \n",
              "2                 0                 1                1        1        0  \n",
              "3                 0                 1                1        1        0  \n",
              "4                 0                 1                1        1        0  "
            ],
            "text/html": [
              "\n",
              "  <div id=\"df-12a4d6b7-fb9c-4452-9236-dc7e1d4483e5\" class=\"colab-df-container\">\n",
              "    <div>\n",
              "<style scoped>\n",
              "    .dataframe tbody tr th:only-of-type {\n",
              "        vertical-align: middle;\n",
              "    }\n",
              "\n",
              "    .dataframe tbody tr th {\n",
              "        vertical-align: top;\n",
              "    }\n",
              "\n",
              "    .dataframe thead th {\n",
              "        text-align: right;\n",
              "    }\n",
              "</style>\n",
              "<table border=\"1\" class=\"dataframe\">\n",
              "  <thead>\n",
              "    <tr style=\"text-align: right;\">\n",
              "      <th></th>\n",
              "      <th>Tarde</th>\n",
              "      <th>Manha</th>\n",
              "      <th>Noite</th>\n",
              "      <th>Madrugada</th>\n",
              "      <th>Centro</th>\n",
              "      <th>Zona Sul</th>\n",
              "      <th>Zona Oeste</th>\n",
              "      <th>Zona Norte</th>\n",
              "      <th>Velocidade Baixa</th>\n",
              "      <th>Velocidade Media</th>\n",
              "      <th>Velocidade Alta</th>\n",
              "      <th>Garagem</th>\n",
              "      <th>Rodando</th>\n",
              "    </tr>\n",
              "  </thead>\n",
              "  <tbody>\n",
              "    <tr>\n",
              "      <th>0</th>\n",
              "      <td>0</td>\n",
              "      <td>0</td>\n",
              "      <td>1</td>\n",
              "      <td>0</td>\n",
              "      <td>0</td>\n",
              "      <td>1</td>\n",
              "      <td>0</td>\n",
              "      <td>0</td>\n",
              "      <td>0</td>\n",
              "      <td>1</td>\n",
              "      <td>1</td>\n",
              "      <td>0</td>\n",
              "      <td>1</td>\n",
              "    </tr>\n",
              "    <tr>\n",
              "      <th>1</th>\n",
              "      <td>0</td>\n",
              "      <td>0</td>\n",
              "      <td>1</td>\n",
              "      <td>0</td>\n",
              "      <td>0</td>\n",
              "      <td>0</td>\n",
              "      <td>0</td>\n",
              "      <td>1</td>\n",
              "      <td>0</td>\n",
              "      <td>1</td>\n",
              "      <td>1</td>\n",
              "      <td>1</td>\n",
              "      <td>0</td>\n",
              "    </tr>\n",
              "    <tr>\n",
              "      <th>2</th>\n",
              "      <td>0</td>\n",
              "      <td>0</td>\n",
              "      <td>1</td>\n",
              "      <td>0</td>\n",
              "      <td>0</td>\n",
              "      <td>0</td>\n",
              "      <td>0</td>\n",
              "      <td>1</td>\n",
              "      <td>0</td>\n",
              "      <td>1</td>\n",
              "      <td>1</td>\n",
              "      <td>1</td>\n",
              "      <td>0</td>\n",
              "    </tr>\n",
              "    <tr>\n",
              "      <th>3</th>\n",
              "      <td>1</td>\n",
              "      <td>0</td>\n",
              "      <td>0</td>\n",
              "      <td>0</td>\n",
              "      <td>0</td>\n",
              "      <td>0</td>\n",
              "      <td>0</td>\n",
              "      <td>1</td>\n",
              "      <td>0</td>\n",
              "      <td>1</td>\n",
              "      <td>1</td>\n",
              "      <td>1</td>\n",
              "      <td>0</td>\n",
              "    </tr>\n",
              "    <tr>\n",
              "      <th>4</th>\n",
              "      <td>0</td>\n",
              "      <td>0</td>\n",
              "      <td>1</td>\n",
              "      <td>0</td>\n",
              "      <td>0</td>\n",
              "      <td>0</td>\n",
              "      <td>0</td>\n",
              "      <td>1</td>\n",
              "      <td>0</td>\n",
              "      <td>1</td>\n",
              "      <td>1</td>\n",
              "      <td>1</td>\n",
              "      <td>0</td>\n",
              "    </tr>\n",
              "  </tbody>\n",
              "</table>\n",
              "</div>\n",
              "    <div class=\"colab-df-buttons\">\n",
              "\n",
              "  <div class=\"colab-df-container\">\n",
              "    <button class=\"colab-df-convert\" onclick=\"convertToInteractive('df-12a4d6b7-fb9c-4452-9236-dc7e1d4483e5')\"\n",
              "            title=\"Convert this dataframe to an interactive table.\"\n",
              "            style=\"display:none;\">\n",
              "\n",
              "  <svg xmlns=\"http://www.w3.org/2000/svg\" height=\"24px\" viewBox=\"0 -960 960 960\">\n",
              "    <path d=\"M120-120v-720h720v720H120Zm60-500h600v-160H180v160Zm220 220h160v-160H400v160Zm0 220h160v-160H400v160ZM180-400h160v-160H180v160Zm440 0h160v-160H620v160ZM180-180h160v-160H180v160Zm440 0h160v-160H620v160Z\"/>\n",
              "  </svg>\n",
              "    </button>\n",
              "\n",
              "  <style>\n",
              "    .colab-df-container {\n",
              "      display:flex;\n",
              "      gap: 12px;\n",
              "    }\n",
              "\n",
              "    .colab-df-convert {\n",
              "      background-color: #E8F0FE;\n",
              "      border: none;\n",
              "      border-radius: 50%;\n",
              "      cursor: pointer;\n",
              "      display: none;\n",
              "      fill: #1967D2;\n",
              "      height: 32px;\n",
              "      padding: 0 0 0 0;\n",
              "      width: 32px;\n",
              "    }\n",
              "\n",
              "    .colab-df-convert:hover {\n",
              "      background-color: #E2EBFA;\n",
              "      box-shadow: 0px 1px 2px rgba(60, 64, 67, 0.3), 0px 1px 3px 1px rgba(60, 64, 67, 0.15);\n",
              "      fill: #174EA6;\n",
              "    }\n",
              "\n",
              "    .colab-df-buttons div {\n",
              "      margin-bottom: 4px;\n",
              "    }\n",
              "\n",
              "    [theme=dark] .colab-df-convert {\n",
              "      background-color: #3B4455;\n",
              "      fill: #D2E3FC;\n",
              "    }\n",
              "\n",
              "    [theme=dark] .colab-df-convert:hover {\n",
              "      background-color: #434B5C;\n",
              "      box-shadow: 0px 1px 3px 1px rgba(0, 0, 0, 0.15);\n",
              "      filter: drop-shadow(0px 1px 2px rgba(0, 0, 0, 0.3));\n",
              "      fill: #FFFFFF;\n",
              "    }\n",
              "  </style>\n",
              "\n",
              "    <script>\n",
              "      const buttonEl =\n",
              "        document.querySelector('#df-12a4d6b7-fb9c-4452-9236-dc7e1d4483e5 button.colab-df-convert');\n",
              "      buttonEl.style.display =\n",
              "        google.colab.kernel.accessAllowed ? 'block' : 'none';\n",
              "\n",
              "      async function convertToInteractive(key) {\n",
              "        const element = document.querySelector('#df-12a4d6b7-fb9c-4452-9236-dc7e1d4483e5');\n",
              "        const dataTable =\n",
              "          await google.colab.kernel.invokeFunction('convertToInteractive',\n",
              "                                                    [key], {});\n",
              "        if (!dataTable) return;\n",
              "\n",
              "        const docLinkHtml = 'Like what you see? Visit the ' +\n",
              "          '<a target=\"_blank\" href=https://colab.research.google.com/notebooks/data_table.ipynb>data table notebook</a>'\n",
              "          + ' to learn more about interactive tables.';\n",
              "        element.innerHTML = '';\n",
              "        dataTable['output_type'] = 'display_data';\n",
              "        await google.colab.output.renderOutput(dataTable, element);\n",
              "        const docLink = document.createElement('div');\n",
              "        docLink.innerHTML = docLinkHtml;\n",
              "        element.appendChild(docLink);\n",
              "      }\n",
              "    </script>\n",
              "  </div>\n",
              "\n",
              "\n",
              "<div id=\"df-bd3ea747-c435-4883-9c71-2ef47a25245d\">\n",
              "  <button class=\"colab-df-quickchart\" onclick=\"quickchart('df-bd3ea747-c435-4883-9c71-2ef47a25245d')\"\n",
              "            title=\"Suggest charts.\"\n",
              "            style=\"display:none;\">\n",
              "\n",
              "<svg xmlns=\"http://www.w3.org/2000/svg\" height=\"24px\"viewBox=\"0 0 24 24\"\n",
              "     width=\"24px\">\n",
              "    <g>\n",
              "        <path d=\"M19 3H5c-1.1 0-2 .9-2 2v14c0 1.1.9 2 2 2h14c1.1 0 2-.9 2-2V5c0-1.1-.9-2-2-2zM9 17H7v-7h2v7zm4 0h-2V7h2v10zm4 0h-2v-4h2v4z\"/>\n",
              "    </g>\n",
              "</svg>\n",
              "  </button>\n",
              "\n",
              "<style>\n",
              "  .colab-df-quickchart {\n",
              "      --bg-color: #E8F0FE;\n",
              "      --fill-color: #1967D2;\n",
              "      --hover-bg-color: #E2EBFA;\n",
              "      --hover-fill-color: #174EA6;\n",
              "      --disabled-fill-color: #AAA;\n",
              "      --disabled-bg-color: #DDD;\n",
              "  }\n",
              "\n",
              "  [theme=dark] .colab-df-quickchart {\n",
              "      --bg-color: #3B4455;\n",
              "      --fill-color: #D2E3FC;\n",
              "      --hover-bg-color: #434B5C;\n",
              "      --hover-fill-color: #FFFFFF;\n",
              "      --disabled-bg-color: #3B4455;\n",
              "      --disabled-fill-color: #666;\n",
              "  }\n",
              "\n",
              "  .colab-df-quickchart {\n",
              "    background-color: var(--bg-color);\n",
              "    border: none;\n",
              "    border-radius: 50%;\n",
              "    cursor: pointer;\n",
              "    display: none;\n",
              "    fill: var(--fill-color);\n",
              "    height: 32px;\n",
              "    padding: 0;\n",
              "    width: 32px;\n",
              "  }\n",
              "\n",
              "  .colab-df-quickchart:hover {\n",
              "    background-color: var(--hover-bg-color);\n",
              "    box-shadow: 0 1px 2px rgba(60, 64, 67, 0.3), 0 1px 3px 1px rgba(60, 64, 67, 0.15);\n",
              "    fill: var(--button-hover-fill-color);\n",
              "  }\n",
              "\n",
              "  .colab-df-quickchart-complete:disabled,\n",
              "  .colab-df-quickchart-complete:disabled:hover {\n",
              "    background-color: var(--disabled-bg-color);\n",
              "    fill: var(--disabled-fill-color);\n",
              "    box-shadow: none;\n",
              "  }\n",
              "\n",
              "  .colab-df-spinner {\n",
              "    border: 2px solid var(--fill-color);\n",
              "    border-color: transparent;\n",
              "    border-bottom-color: var(--fill-color);\n",
              "    animation:\n",
              "      spin 1s steps(1) infinite;\n",
              "  }\n",
              "\n",
              "  @keyframes spin {\n",
              "    0% {\n",
              "      border-color: transparent;\n",
              "      border-bottom-color: var(--fill-color);\n",
              "      border-left-color: var(--fill-color);\n",
              "    }\n",
              "    20% {\n",
              "      border-color: transparent;\n",
              "      border-left-color: var(--fill-color);\n",
              "      border-top-color: var(--fill-color);\n",
              "    }\n",
              "    30% {\n",
              "      border-color: transparent;\n",
              "      border-left-color: var(--fill-color);\n",
              "      border-top-color: var(--fill-color);\n",
              "      border-right-color: var(--fill-color);\n",
              "    }\n",
              "    40% {\n",
              "      border-color: transparent;\n",
              "      border-right-color: var(--fill-color);\n",
              "      border-top-color: var(--fill-color);\n",
              "    }\n",
              "    60% {\n",
              "      border-color: transparent;\n",
              "      border-right-color: var(--fill-color);\n",
              "    }\n",
              "    80% {\n",
              "      border-color: transparent;\n",
              "      border-right-color: var(--fill-color);\n",
              "      border-bottom-color: var(--fill-color);\n",
              "    }\n",
              "    90% {\n",
              "      border-color: transparent;\n",
              "      border-bottom-color: var(--fill-color);\n",
              "    }\n",
              "  }\n",
              "</style>\n",
              "\n",
              "  <script>\n",
              "    async function quickchart(key) {\n",
              "      const quickchartButtonEl =\n",
              "        document.querySelector('#' + key + ' button');\n",
              "      quickchartButtonEl.disabled = true;  // To prevent multiple clicks.\n",
              "      quickchartButtonEl.classList.add('colab-df-spinner');\n",
              "      try {\n",
              "        const charts = await google.colab.kernel.invokeFunction(\n",
              "            'suggestCharts', [key], {});\n",
              "      } catch (error) {\n",
              "        console.error('Error during call to suggestCharts:', error);\n",
              "      }\n",
              "      quickchartButtonEl.classList.remove('colab-df-spinner');\n",
              "      quickchartButtonEl.classList.add('colab-df-quickchart-complete');\n",
              "    }\n",
              "    (() => {\n",
              "      let quickchartButtonEl =\n",
              "        document.querySelector('#df-bd3ea747-c435-4883-9c71-2ef47a25245d button');\n",
              "      quickchartButtonEl.style.display =\n",
              "        google.colab.kernel.accessAllowed ? 'block' : 'none';\n",
              "    })();\n",
              "  </script>\n",
              "</div>\n",
              "    </div>\n",
              "  </div>\n"
            ]
          },
          "metadata": {},
          "execution_count": 70
        }
      ]
    },
    {
      "cell_type": "code",
      "source": [
        "dff2.shape"
      ],
      "metadata": {
        "colab": {
          "base_uri": "https://localhost:8080/"
        },
        "id": "kv-_oW1b6wkG",
        "outputId": "45781b53-6570-4455-e63b-aa6b5104d77b"
      },
      "execution_count": 71,
      "outputs": [
        {
          "output_type": "execute_result",
          "data": {
            "text/plain": [
              "(529, 13)"
            ]
          },
          "metadata": {},
          "execution_count": 71
        }
      ]
    },
    {
      "cell_type": "code",
      "source": [
        "matrix = dff2.to_numpy()"
      ],
      "metadata": {
        "id": "riQrnZ000Mov"
      },
      "execution_count": 72,
      "outputs": []
    },
    {
      "cell_type": "code",
      "source": [
        "r_tsne = TSNE(n_components=2, random_state=1, perplexity=4, verbose=1).fit_transform(matrix)"
      ],
      "metadata": {
        "id": "6Vd3kJ050PAc",
        "colab": {
          "base_uri": "https://localhost:8080/"
        },
        "outputId": "c36a9754-c4a4-4f69-bb76-e42b6940beee"
      },
      "execution_count": 79,
      "outputs": [
        {
          "output_type": "stream",
          "name": "stdout",
          "text": [
            "[t-SNE] Computing 13 nearest neighbors...\n",
            "[t-SNE] Indexed 529 samples in 0.006s...\n",
            "[t-SNE] Computed neighbors for 529 samples in 0.017s...\n",
            "[t-SNE] Computed conditional probabilities for sample 529 / 529\n",
            "[t-SNE] Mean sigma: 0.000000\n",
            "[t-SNE] KL divergence after 250 iterations with early exaggeration: 36.213852\n",
            "[t-SNE] KL divergence after 1000 iterations: -1.329415\n"
          ]
        }
      ]
    },
    {
      "cell_type": "code",
      "source": [
        "import pandas as pd\n",
        "import matplotlib.pyplot as plt\n",
        "import matplotlib.colors as mcolors\n",
        "df_tsne = pd.DataFrame()\n",
        "df_tsne['x'] = r_tsne[:,0]\n",
        "df_tsne['y'] = r_tsne[:,1]\n",
        "plt.figure(figsize=(16,8))\n",
        "sns.scatterplot(\n",
        "    x='x',\n",
        "    y='y',\n",
        "    # hue=predicao,\n",
        "    # palette=sns.color_palette(\"hls\", len(set(predicao))),\n",
        "    data=df_tsne,\n",
        "    legend=\"full\",\n",
        "    alpha=0.3\n",
        ")\n",
        "plt.legend(loc='upper right')\n",
        "plt.show()"
      ],
      "metadata": {
        "id": "EXYhkGml3Bzg",
        "colab": {
          "base_uri": "https://localhost:8080/",
          "height": 713
        },
        "outputId": "b445a77c-e511-40df-a603-31ae703b4bbd"
      },
      "execution_count": 80,
      "outputs": [
        {
          "output_type": "stream",
          "name": "stderr",
          "text": [
            "WARNING:matplotlib.legend:No artists with labels found to put in legend.  Note that artists whose label start with an underscore are ignored when legend() is called with no argument.\n"
          ]
        },
        {
          "output_type": "display_data",
          "data": {
            "text/plain": [
              "<Figure size 1600x800 with 1 Axes>"
            ],
            "image/png": "[encoded data removed]"
          },
          "metadata": {}
        }
      ]
    }
  ]
}