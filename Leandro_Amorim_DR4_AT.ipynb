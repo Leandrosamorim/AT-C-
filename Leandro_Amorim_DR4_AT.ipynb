{
  "nbformat": 4,
  "nbformat_minor": 0,
  "metadata": {
    "colab": {
      "provenance": [],
      "include_colab_link": true
    },
    "kernelspec": {
      "name": "python3",
      "display_name": "Python 3"
    },
    "language_info": {
      "name": "python"
    }
  },
  "cells": [
    {
      "cell_type": "markdown",
      "metadata": {
        "id": "view-in-github",
        "colab_type": "text"
      },
      "source": [
        "<a href=\"https://colab.research.google.com/github/Leandrosamorim/AT-C-/blob/master/Leandro_Amorim_DR4_AT.ipynb\" target=\"_parent\"><img src=\"https://colab.research.google.com/assets/colab-badge.svg\" alt=\"Open In Colab\"/></a>"
      ]
    },
    {
      "cell_type": "code",
      "metadata": {
        "id": "lBcWjhOZbfaL",
        "colab": {
          "base_uri": "https://localhost:8080/"
        },
        "outputId": "971f8086-86bd-470f-8603-201e422006e1"
      },
      "source": [
        "!apt-get install openjdk-8-jdk-headless -qq > /dev/null\n",
        "!apt-get install unzip\n",
        "!wget -q https://dlcdn.apache.org/spark/spark-3.4.0/spark-3.4.0-bin-hadoop3.tgz\n",
        "!tar xf spark-3.4.0-bin-hadoop3.tgz\n",
        "!pip install -q findspark\n",
        "!pip install pyspark\n",
        "import os\n",
        "os.environ[\"JAVA_HOME\"] = \"/usr/lib/jvm/java-8-openjdk-amd64\"\n",
        "!update-alternatives --set java /usr/lib/jvm/java-8-openjdk-amd64/jre/bin/java\n",
        "!java -version"
      ],
      "execution_count": 257,
      "outputs": [
        {
          "output_type": "stream",
          "name": "stdout",
          "text": [
            "Reading package lists... Done\n",
            "Building dependency tree... Done\n",
            "Reading state information... Done\n",
            "unzip is already the newest version (6.0-26ubuntu3.1).\n",
            "0 upgraded, 0 newly installed, 0 to remove and 18 not upgraded.\n",
            "tar: spark-3.4.0-bin-hadoop3.tgz: Cannot open: No such file or directory\n",
            "tar: Error is not recoverable: exiting now\n",
            "Requirement already satisfied: pyspark in /usr/local/lib/python3.10/dist-packages (3.5.0)\n",
            "Requirement already satisfied: py4j==0.10.9.7 in /usr/local/lib/python3.10/dist-packages (from pyspark) (0.10.9.7)\n",
            "openjdk version \"1.8.0_382\"\n",
            "OpenJDK Runtime Environment (build 1.8.0_382-8u382-ga-1~22.04.1-b05)\n",
            "OpenJDK 64-Bit Server VM (build 25.382-b05, mixed mode)\n"
          ]
        }
      ]
    },
    {
      "cell_type": "code",
      "source": [
        "import pyspark\n",
        "import random\n",
        "\n",
        "from pyspark.sql import SparkSession\n",
        "\n",
        "spark = SparkSession \\\n",
        "    .builder \\\n",
        "    .appName(\"Spark_SQL\") \\\n",
        "    .getOrCreate()\n",
        "\n",
        "print(\"Initialization successful\")"
      ],
      "metadata": {
        "colab": {
          "base_uri": "https://localhost:8080/"
        },
        "id": "zJ2y49c2TPgH",
        "outputId": "5f982ba6-c11c-47e2-e02f-9f00cda44782"
      },
      "execution_count": 258,
      "outputs": [
        {
          "output_type": "stream",
          "name": "stdout",
          "text": [
            "Initialization successful\n"
          ]
        }
      ]
    },
    {
      "cell_type": "code",
      "source": [
        "def shape(df):\n",
        "    return (df.count(), len(df.columns))"
      ],
      "metadata": {
        "id": "qKsO4toeTQQ1"
      },
      "execution_count": 259,
      "outputs": []
    },
    {
      "cell_type": "code",
      "source": [
        "from pathlib import Path\n",
        "bus_api_folder = Path.cwd().parent / \"datasets\" / \"bus-api-parquet\""
      ],
      "metadata": {
        "id": "W8FlqQIeT0qY"
      },
      "execution_count": 260,
      "outputs": []
    },
    {
      "cell_type": "code",
      "source": [
        "str(bus_api_folder)"
      ],
      "metadata": {
        "colab": {
          "base_uri": "https://localhost:8080/",
          "height": 35
        },
        "id": "AmC4ihfRTF59",
        "outputId": "467c1381-b92e-45e8-8e95-3fceab752069"
      },
      "execution_count": 261,
      "outputs": [
        {
          "output_type": "execute_result",
          "data": {
            "text/plain": [
              "'/datasets/bus-api-parquet'"
            ],
            "application/vnd.google.colaboratory.intrinsic+json": {
              "type": "string"
            }
          },
          "metadata": {},
          "execution_count": 261
        }
      ]
    },
    {
      "cell_type": "code",
      "source": [
        "from google.colab import drive\n",
        "drive.mount('/content/drive')\n",
        "\n",
        "!unzip -d ./datasets /content/drive/MyDrive/bus-api-parquet.zip"
      ],
      "metadata": {
        "colab": {
          "base_uri": "https://localhost:8080/"
        },
        "id": "912kwAgbhnDz",
        "outputId": "c2d67dcc-db19-4cc2-c61c-dddd04bd760a"
      },
      "execution_count": 262,
      "outputs": [
        {
          "output_type": "stream",
          "name": "stdout",
          "text": [
            "Drive already mounted at /content/drive; to attempt to forcibly remount, call drive.mount(\"/content/drive\", force_remount=True).\n",
            "Archive:  /content/drive/MyDrive/bus-api-parquet.zip\n",
            "replace ./datasets/bus-api-parquet/2023-05-22_030000.jsonl.parquet? [y]es, [n]o, [A]ll, [N]one, [r]ename: N\n"
          ]
        }
      ]
    },
    {
      "cell_type": "code",
      "source": [
        "\n",
        "\n",
        "df = spark.read.format(\n",
        "    \"parquet\"\n",
        ").load(\n",
        "    f\"./datasets/bus-api-parquet/*.parquet\"\n",
        ")"
      ],
      "metadata": {
        "id": "7QXGYIY0iHgL"
      },
      "execution_count": 264,
      "outputs": []
    },
    {
      "cell_type": "code",
      "source": [
        "shape(df)"
      ],
      "metadata": {
        "colab": {
          "base_uri": "https://localhost:8080/"
        },
        "id": "g_jFJekSoDdO",
        "outputId": "1d99fc7f-92b4-48e5-ccb3-60e3c90d2bc6"
      },
      "execution_count": 265,
      "outputs": [
        {
          "output_type": "execute_result",
          "data": {
            "text/plain": [
              "(75212501, 8)"
            ]
          },
          "metadata": {},
          "execution_count": 265
        }
      ]
    },
    {
      "cell_type": "code",
      "source": [
        "df.show()"
      ],
      "metadata": {
        "colab": {
          "base_uri": "https://localhost:8080/"
        },
        "id": "6GqwQFgDoMIZ",
        "outputId": "ff79b3eb-26b0-4094-f89b-4cf6188c5500"
      },
      "execution_count": 266,
      "outputs": [
        {
          "output_type": "stream",
          "name": "stdout",
          "text": [
            "+------+---------+---------+-------------+----------+-----+-------------+----------------+\n",
            "| ordem| latitude|longitude|     datahora|velocidade|linha|datahoraenvio|datahoraservidor|\n",
            "+------+---------+---------+-------------+----------+-----+-------------+----------------+\n",
            "|B27026|-22,87052|-43,33811|1684324793000|         0|  639|1684324800000|   1684324828000|\n",
            "|B27033|-22,82531| -43,2955|1684324790000|        42|  905|1684324800000|   1684324828000|\n",
            "|C27198|-22,86548|-43,29972|1684324784000|         0|  292|1684324800000|   1684324828000|\n",
            "|B27126|-22,85722|-43,32907|1684324597000|         0|  774|1684324800000|   1684324828000|\n",
            "|B27111|-22,88118| -43,2575|1684324793000|         0|SP265|1684324800000|   1684324828000|\n",
            "|C27028|-22,83632|-43,30833|1684324787000|         0|  775|1684324800000|   1684324828000|\n",
            "|C27165|-22,82391|-43,29611|1684324792000|         4|  905|1684324800000|   1684324828000|\n",
            "|B27044|-22,91452|-43,23565|1684324793000|        45|  639|1684324800000|   1684324828000|\n",
            "|C27119|-22,87005|-43,34139|1684324791000|         0|  774|1684324800000|   1684324828000|\n",
            "|C27106|-22,86766|-43,25294|1684324789000|        42|  905|1684324800000|   1684324828000|\n",
            "|B27107|-22,86506| -43,2934|1684324782000|        35|  629|1684324800000|   1684324828000|\n",
            "|C27200|-22,82716| -43,3254|1684324790000|        22|  629|1684324800000|   1684324828000|\n",
            "|C27029|-22,84944|-43,32546|1684324789000|        37|SV774|1684324800000|   1684324828000|\n",
            "|B27135|-22,82802|-43,27891|1684324794000|        22|  905|1684324800000|   1684324828000|\n",
            "|C27004|-22,86219|-43,24824|1684324791000|         8|  355|1684324800000|   1684324828000|\n",
            "|B27126|-22,85722|-43,32907|1684324627000|         0|  774|1684324800000|   1684324828000|\n",
            "|B27164|-22,88386| -43,3193|1684324791000|        14|  639|1684324800000|   1684324828000|\n",
            "|B27019|-22,92284|-43,23241|1684324789000|         0|  629|1684324800000|   1684324828000|\n",
            "|B27216|-22,90269| -43,2182|1684324787000|        16|  292|1684324800000|   1684324828000|\n",
            "|B27043|-22,88428|-43,29108|1684324791000|        32|  265|1684324800000|   1684324828000|\n",
            "+------+---------+---------+-------------+----------+-----+-------------+----------------+\n",
            "only showing top 20 rows\n",
            "\n"
          ]
        }
      ]
    },
    {
      "cell_type": "code",
      "source": [
        "from pyspark.sql import functions as f\n",
        "from pyspark.sql.functions import *"
      ],
      "metadata": {
        "id": "OSLVaY5-2vQl"
      },
      "execution_count": 267,
      "outputs": []
    },
    {
      "cell_type": "code",
      "source": [
        "df_on_garage = df.filter(col(\"linha\").contains(\"GARAGEM\")).groupBy(\"ordem\").agg(f.min(from_unixtime(col(\"datahoraenvio\") / 1000 , )).alias(\"entrada\"), f.max(from_unixtime(col(\"datahoraenvio\") / 1000, \"yyyy-MM-dd HH:mm:ss\" )).alias(\"saida\"))"
      ],
      "metadata": {
        "id": "N29KFqb237HE"
      },
      "execution_count": 268,
      "outputs": []
    },
    {
      "cell_type": "code",
      "source": [
        "df_time_on_garage = df_on_garage.withColumn(\"Tempo na Garagem (em minutos)\",(to_timestamp(col(\"saida\")) - to_timestamp(col(\"entrada\"))).cast(\"bigInt\") /60 )\n"
      ],
      "metadata": {
        "id": "REDUwb-Q7A07"
      },
      "execution_count": 269,
      "outputs": []
    },
    {
      "cell_type": "code",
      "source": [
        "df_roaming = df.where(~col(\"linha\").contains(\"GARAGEM\")).groupBy(\"ordem\").agg(f.min(from_unixtime(col(\"datahoraenvio\") / 1000 , )).alias(\"inicio\"), f.max(from_unixtime(col(\"datahoraenvio\") / 1000, \"yyyy-MM-dd HH:mm:ss\" )).alias(\"fim\"))"
      ],
      "metadata": {
        "id": "w5WLAPfP9dSB"
      },
      "execution_count": 270,
      "outputs": []
    },
    {
      "cell_type": "code",
      "source": [
        "df_time_roaming = df_roaming.withColumn(\"Tempo Rodando (em minutos)\",(to_timestamp(col(\"fim\")) - to_timestamp(col(\"inicio\"))).cast(\"bigInt\") /60 )\n"
      ],
      "metadata": {
        "id": "U1J385186QyI"
      },
      "execution_count": 271,
      "outputs": []
    },
    {
      "cell_type": "code",
      "source": [
        "joined_df = df_time_roaming.join(df_time_on_garage, on=\"ordem\", how=\"inner\")\n",
        "joined_df = joined_df.withColumn(\"Porcentagem de tempo rodando\", col(\"Tempo Rodando (em minutos)\") / (col(\"Tempo Rodando (em minutos)\") + col(\"Tempo na Garagem (em minutos)\"))\n",
        ").withColumn(\"Porcentagem de tempo na garagem\", col(\"Tempo na Garagem (em minutos)\") / (col(\"Tempo Rodando (em minutos)\") + col(\"Tempo na Garagem (em minutos)\")))\n",
        "joined_df.show()"
      ],
      "metadata": {
        "id": "isZ3pHin--L7"
      },
      "execution_count": null,
      "outputs": []
    },
    {
      "cell_type": "code",
      "source": [
        "\n",
        "\n",
        "df_avg_speed = df.filter(\n",
        "    col(\"velocidade\") > 0\n",
        ").groupBy(\n",
        "    \"ordem\"\n",
        ").agg(\n",
        "    avg(col(\"velocidade\")).alias(\"avg_velocidade\")\n",
        ").orderBy(\n",
        "    # col(\"ordem\").asc()\n",
        "    col(\"avg_velocidade\").desc()\n",
        ")\n"
      ],
      "metadata": {
        "id": "UqINMWI0olZC"
      },
      "execution_count": 272,
      "outputs": []
    },
    {
      "cell_type": "code",
      "source": [
        "df_avg_speed.show()"
      ],
      "metadata": {
        "colab": {
          "base_uri": "https://localhost:8080/",
          "height": 477
        },
        "id": "Yqg20hN5o0Oc",
        "outputId": "425f4fdd-87dc-4883-fa1a-e3e46ccca349"
      },
      "execution_count": 273,
      "outputs": [
        {
          "output_type": "stream",
          "name": "stderr",
          "text": [
            "ERROR:root:KeyboardInterrupt while sending command.\n",
            "Traceback (most recent call last):\n",
            "  File \"/usr/local/lib/python3.10/dist-packages/py4j/java_gateway.py\", line 1038, in send_command\n",
            "    response = connection.send_command(command)\n",
            "  File \"/usr/local/lib/python3.10/dist-packages/py4j/clientserver.py\", line 511, in send_command\n",
            "    answer = smart_decode(self.stream.readline()[:-1])\n",
            "  File \"/usr/lib/python3.10/socket.py\", line 705, in readinto\n",
            "    return self._sock.recv_into(b)\n",
            "KeyboardInterrupt\n"
          ]
        },
        {
          "output_type": "error",
          "ename": "KeyboardInterrupt",
          "evalue": "ignored",
          "traceback": [
            "\u001b[0;31m---------------------------------------------------------------------------\u001b[0m",
            "\u001b[0;31mKeyboardInterrupt\u001b[0m                         Traceback (most recent call last)",
            "\u001b[0;32m<ipython-input-273-2fc6eda34287>\u001b[0m in \u001b[0;36m<cell line: 1>\u001b[0;34m()\u001b[0m\n\u001b[0;32m----> 1\u001b[0;31m \u001b[0mdf_avg_speed\u001b[0m\u001b[0;34m.\u001b[0m\u001b[0mshow\u001b[0m\u001b[0;34m(\u001b[0m\u001b[0;34m)\u001b[0m\u001b[0;34m\u001b[0m\u001b[0;34m\u001b[0m\u001b[0m\n\u001b[0m",
            "\u001b[0;32m/usr/local/lib/python3.10/dist-packages/pyspark/sql/dataframe.py\u001b[0m in \u001b[0;36mshow\u001b[0;34m(self, n, truncate, vertical)\u001b[0m\n\u001b[1;32m    957\u001b[0m \u001b[0;34m\u001b[0m\u001b[0m\n\u001b[1;32m    958\u001b[0m         \u001b[0;32mif\u001b[0m \u001b[0misinstance\u001b[0m\u001b[0;34m(\u001b[0m\u001b[0mtruncate\u001b[0m\u001b[0;34m,\u001b[0m \u001b[0mbool\u001b[0m\u001b[0;34m)\u001b[0m \u001b[0;32mand\u001b[0m \u001b[0mtruncate\u001b[0m\u001b[0;34m:\u001b[0m\u001b[0;34m\u001b[0m\u001b[0;34m\u001b[0m\u001b[0m\n\u001b[0;32m--> 959\u001b[0;31m             \u001b[0mprint\u001b[0m\u001b[0;34m(\u001b[0m\u001b[0mself\u001b[0m\u001b[0;34m.\u001b[0m\u001b[0m_jdf\u001b[0m\u001b[0;34m.\u001b[0m\u001b[0mshowString\u001b[0m\u001b[0;34m(\u001b[0m\u001b[0mn\u001b[0m\u001b[0;34m,\u001b[0m \u001b[0;36m20\u001b[0m\u001b[0;34m,\u001b[0m \u001b[0mvertical\u001b[0m\u001b[0;34m)\u001b[0m\u001b[0;34m)\u001b[0m\u001b[0;34m\u001b[0m\u001b[0;34m\u001b[0m\u001b[0m\n\u001b[0m\u001b[1;32m    960\u001b[0m         \u001b[0;32melse\u001b[0m\u001b[0;34m:\u001b[0m\u001b[0;34m\u001b[0m\u001b[0;34m\u001b[0m\u001b[0m\n\u001b[1;32m    961\u001b[0m             \u001b[0;32mtry\u001b[0m\u001b[0;34m:\u001b[0m\u001b[0;34m\u001b[0m\u001b[0;34m\u001b[0m\u001b[0m\n",
            "\u001b[0;32m/usr/local/lib/python3.10/dist-packages/py4j/java_gateway.py\u001b[0m in \u001b[0;36m__call__\u001b[0;34m(self, *args)\u001b[0m\n\u001b[1;32m   1319\u001b[0m             \u001b[0mproto\u001b[0m\u001b[0;34m.\u001b[0m\u001b[0mEND_COMMAND_PART\u001b[0m\u001b[0;34m\u001b[0m\u001b[0;34m\u001b[0m\u001b[0m\n\u001b[1;32m   1320\u001b[0m \u001b[0;34m\u001b[0m\u001b[0m\n\u001b[0;32m-> 1321\u001b[0;31m         \u001b[0manswer\u001b[0m \u001b[0;34m=\u001b[0m \u001b[0mself\u001b[0m\u001b[0;34m.\u001b[0m\u001b[0mgateway_client\u001b[0m\u001b[0;34m.\u001b[0m\u001b[0msend_command\u001b[0m\u001b[0;34m(\u001b[0m\u001b[0mcommand\u001b[0m\u001b[0;34m)\u001b[0m\u001b[0;34m\u001b[0m\u001b[0;34m\u001b[0m\u001b[0m\n\u001b[0m\u001b[1;32m   1322\u001b[0m         return_value = get_return_value(\n\u001b[1;32m   1323\u001b[0m             answer, self.gateway_client, self.target_id, self.name)\n",
            "\u001b[0;32m/usr/local/lib/python3.10/dist-packages/py4j/java_gateway.py\u001b[0m in \u001b[0;36msend_command\u001b[0;34m(self, command, retry, binary)\u001b[0m\n\u001b[1;32m   1036\u001b[0m         \u001b[0mconnection\u001b[0m \u001b[0;34m=\u001b[0m \u001b[0mself\u001b[0m\u001b[0;34m.\u001b[0m\u001b[0m_get_connection\u001b[0m\u001b[0;34m(\u001b[0m\u001b[0;34m)\u001b[0m\u001b[0;34m\u001b[0m\u001b[0;34m\u001b[0m\u001b[0m\n\u001b[1;32m   1037\u001b[0m         \u001b[0;32mtry\u001b[0m\u001b[0;34m:\u001b[0m\u001b[0;34m\u001b[0m\u001b[0;34m\u001b[0m\u001b[0m\n\u001b[0;32m-> 1038\u001b[0;31m             \u001b[0mresponse\u001b[0m \u001b[0;34m=\u001b[0m \u001b[0mconnection\u001b[0m\u001b[0;34m.\u001b[0m\u001b[0msend_command\u001b[0m\u001b[0;34m(\u001b[0m\u001b[0mcommand\u001b[0m\u001b[0;34m)\u001b[0m\u001b[0;34m\u001b[0m\u001b[0;34m\u001b[0m\u001b[0m\n\u001b[0m\u001b[1;32m   1039\u001b[0m             \u001b[0;32mif\u001b[0m \u001b[0mbinary\u001b[0m\u001b[0;34m:\u001b[0m\u001b[0;34m\u001b[0m\u001b[0;34m\u001b[0m\u001b[0m\n\u001b[1;32m   1040\u001b[0m                 \u001b[0;32mreturn\u001b[0m \u001b[0mresponse\u001b[0m\u001b[0;34m,\u001b[0m \u001b[0mself\u001b[0m\u001b[0;34m.\u001b[0m\u001b[0m_create_connection_guard\u001b[0m\u001b[0;34m(\u001b[0m\u001b[0mconnection\u001b[0m\u001b[0;34m)\u001b[0m\u001b[0;34m\u001b[0m\u001b[0;34m\u001b[0m\u001b[0m\n",
            "\u001b[0;32m/usr/local/lib/python3.10/dist-packages/py4j/clientserver.py\u001b[0m in \u001b[0;36msend_command\u001b[0;34m(self, command)\u001b[0m\n\u001b[1;32m    509\u001b[0m         \u001b[0;32mtry\u001b[0m\u001b[0;34m:\u001b[0m\u001b[0;34m\u001b[0m\u001b[0;34m\u001b[0m\u001b[0m\n\u001b[1;32m    510\u001b[0m             \u001b[0;32mwhile\u001b[0m \u001b[0;32mTrue\u001b[0m\u001b[0;34m:\u001b[0m\u001b[0;34m\u001b[0m\u001b[0;34m\u001b[0m\u001b[0m\n\u001b[0;32m--> 511\u001b[0;31m                 \u001b[0manswer\u001b[0m \u001b[0;34m=\u001b[0m \u001b[0msmart_decode\u001b[0m\u001b[0;34m(\u001b[0m\u001b[0mself\u001b[0m\u001b[0;34m.\u001b[0m\u001b[0mstream\u001b[0m\u001b[0;34m.\u001b[0m\u001b[0mreadline\u001b[0m\u001b[0;34m(\u001b[0m\u001b[0;34m)\u001b[0m\u001b[0;34m[\u001b[0m\u001b[0;34m:\u001b[0m\u001b[0;34m-\u001b[0m\u001b[0;36m1\u001b[0m\u001b[0;34m]\u001b[0m\u001b[0;34m)\u001b[0m\u001b[0;34m\u001b[0m\u001b[0;34m\u001b[0m\u001b[0m\n\u001b[0m\u001b[1;32m    512\u001b[0m                 \u001b[0mlogger\u001b[0m\u001b[0;34m.\u001b[0m\u001b[0mdebug\u001b[0m\u001b[0;34m(\u001b[0m\u001b[0;34m\"Answer received: {0}\"\u001b[0m\u001b[0;34m.\u001b[0m\u001b[0mformat\u001b[0m\u001b[0;34m(\u001b[0m\u001b[0manswer\u001b[0m\u001b[0;34m)\u001b[0m\u001b[0;34m)\u001b[0m\u001b[0;34m\u001b[0m\u001b[0;34m\u001b[0m\u001b[0m\n\u001b[1;32m    513\u001b[0m                 \u001b[0;31m# Happens when a the other end is dead. There might be an empty\u001b[0m\u001b[0;34m\u001b[0m\u001b[0;34m\u001b[0m\u001b[0m\n",
            "\u001b[0;32m/usr/lib/python3.10/socket.py\u001b[0m in \u001b[0;36mreadinto\u001b[0;34m(self, b)\u001b[0m\n\u001b[1;32m    703\u001b[0m         \u001b[0;32mwhile\u001b[0m \u001b[0;32mTrue\u001b[0m\u001b[0;34m:\u001b[0m\u001b[0;34m\u001b[0m\u001b[0;34m\u001b[0m\u001b[0m\n\u001b[1;32m    704\u001b[0m             \u001b[0;32mtry\u001b[0m\u001b[0;34m:\u001b[0m\u001b[0;34m\u001b[0m\u001b[0;34m\u001b[0m\u001b[0m\n\u001b[0;32m--> 705\u001b[0;31m                 \u001b[0;32mreturn\u001b[0m \u001b[0mself\u001b[0m\u001b[0;34m.\u001b[0m\u001b[0m_sock\u001b[0m\u001b[0;34m.\u001b[0m\u001b[0mrecv_into\u001b[0m\u001b[0;34m(\u001b[0m\u001b[0mb\u001b[0m\u001b[0;34m)\u001b[0m\u001b[0;34m\u001b[0m\u001b[0;34m\u001b[0m\u001b[0m\n\u001b[0m\u001b[1;32m    706\u001b[0m             \u001b[0;32mexcept\u001b[0m \u001b[0mtimeout\u001b[0m\u001b[0;34m:\u001b[0m\u001b[0;34m\u001b[0m\u001b[0;34m\u001b[0m\u001b[0m\n\u001b[1;32m    707\u001b[0m                 \u001b[0mself\u001b[0m\u001b[0;34m.\u001b[0m\u001b[0m_timeout_occurred\u001b[0m \u001b[0;34m=\u001b[0m \u001b[0;32mTrue\u001b[0m\u001b[0;34m\u001b[0m\u001b[0;34m\u001b[0m\u001b[0m\n",
            "\u001b[0;31mKeyboardInterrupt\u001b[0m: "
          ]
        }
      ]
    },
    {
      "cell_type": "code",
      "source": [
        "df_sp_lines = df.withColumn(\"Special?\", col(\"Linha\").contains(\"SP\"))\n"
      ],
      "metadata": {
        "id": "D2vo6SFko_SU"
      },
      "execution_count": 274,
      "outputs": []
    },
    {
      "cell_type": "code",
      "source": [
        "df_sp_lines.show()"
      ],
      "metadata": {
        "id": "oc1z2WU04N98"
      },
      "execution_count": null,
      "outputs": []
    },
    {
      "cell_type": "code",
      "source": [
        "df_period_pre = df.filter(\n",
        "    col(\"velocidade\") > 0\n",
        ").withColumn(\n",
        "    \"dt_wrong\", from_unixtime(col(\"datahoraservidor\"), \"yyyy-MM-dd HH:mm:ss\")\n",
        ").withColumn(\n",
        "    \"dt\", from_unixtime(floor(col(\"datahoraservidor\") / 1000), \"yyyy-MM-dd HH:mm:ss\")\n",
        ").withColumn(\n",
        "    \"hora\", from_unixtime(floor(col(\"datahoraservidor\") / 1000), \"HHmm\").cast(\"int\")\n",
        ").withColumn(\n",
        "    \"periodo\",\n",
        "    expr(\n",
        "        \"\"\"\n",
        "        case\n",
        "        when hora >= 0 and hora <= 559 then 'Madrugada'\n",
        "        when hora >= 600 and hora <= 1159 then 'Manhã'\n",
        "        when hora >= 1200 and hora <= 1759 then 'Tarde'\n",
        "        when hora >= 1800 and hora <= 2359 then 'Noite'\n",
        "        else 'Erro'\n",
        "        end\n",
        "        \"\"\"\n",
        "    )\n",
        ").select(\"ordem\", \"latitude\", \"longitude\", \"velocidade\", \"linha\", \"dt_wrong\", \"dt\", \"hora\", \"periodo\")"
      ],
      "metadata": {
        "id": "O0B56U8RrT2P"
      },
      "execution_count": 300,
      "outputs": []
    },
    {
      "cell_type": "code",
      "source": [
        "df_bigger_period = df_period_pre.groupBy(\"ordem\").agg(f.mode(col(\"periodo\"))).alias(\"PeriodoMaior\")"
      ],
      "metadata": {
        "id": "iEjRzR8AroNp"
      },
      "execution_count": 301,
      "outputs": []
    },
    {
      "cell_type": "code",
      "source": [
        "df_bigger_period.show(30)"
      ],
      "metadata": {
        "colab": {
          "base_uri": "https://localhost:8080/"
        },
        "id": "7rvsJtvxEg9X",
        "outputId": "82915df3-d5e1-42cc-8526-c7edf8d070e3"
      },
      "execution_count": 302,
      "outputs": [
        {
          "output_type": "stream",
          "name": "stdout",
          "text": [
            "+------+-------------+\n",
            "| ordem|mode(periodo)|\n",
            "+------+-------------+\n",
            "| 29107|        Noite|\n",
            "|     A|        Tarde|\n",
            "|A27509|        Noite|\n",
            "|A27515|        Noite|\n",
            "|A27517|        Tarde|\n",
            "|A27522|        Noite|\n",
            "|A27537|        Noite|\n",
            "|A27544|        Noite|\n",
            "|A27556|        Noite|\n",
            "|A27559|        Noite|\n",
            "|A27560|        Noite|\n",
            "|A27565|        Manhã|\n",
            "|A27567|        Noite|\n",
            "|A27571|        Noite|\n",
            "|A27574|        Noite|\n",
            "|A27582|        Noite|\n",
            "|A27588|        Noite|\n",
            "|A27589|        Noite|\n",
            "|A27594|        Noite|\n",
            "|A27597|        Manhã|\n",
            "|A27606|        Noite|\n",
            "|A27611|        Noite|\n",
            "|A27615|        Manhã|\n",
            "|A27616|        Noite|\n",
            "|A27617|    Madrugada|\n",
            "|A27632|        Noite|\n",
            "|A27640|        Noite|\n",
            "|A27651|    Madrugada|\n",
            "|A27652|        Noite|\n",
            "|A27660|        Noite|\n",
            "+------+-------------+\n",
            "only showing top 30 rows\n",
            "\n"
          ]
        }
      ]
    },
    {
      "cell_type": "code",
      "source": [
        "centroLat = -22.90713839240253\n",
        "centroLong = -43.18219023728626\n",
        "zsLat = -22.96726870596604\n",
        "zsLong = -43.203039004608534\n",
        "zoLat = -22.97060306453973\n",
        "zoLong = -43.401314145834405\n",
        "znLat = -22.907728620624063\n",
        "znLong = -43.23845173896641"
      ],
      "metadata": {
        "id": "zODFGW75CTcY"
      },
      "execution_count": 277,
      "outputs": []
    },
    {
      "cell_type": "code",
      "source": [
        "from pyspark.sql.types import FloatType\n",
        "from pyspark.sql.functions import regexp_replace\n",
        "df2 = df.withColumn(\"latitude\", regexp_replace(col(\"latitude\"),',','.'))\n",
        "df2 = df2.withColumn(\"longitude\", regexp_replace(col(\"longitude\"),',','.'))\n",
        "df2 = df2.withColumn(\"latitude\", col(\"latitude\").cast(FloatType()))\n",
        "df2 = df2.withColumn(\"longitude\", col(\"longitude\").cast(FloatType()))\n",
        "df2.show()"
      ],
      "metadata": {
        "colab": {
          "base_uri": "https://localhost:8080/"
        },
        "id": "rqoqPy9elmw5",
        "outputId": "1adb6aae-f887-4014-b4dd-02a1c55fb01c"
      },
      "execution_count": 288,
      "outputs": [
        {
          "output_type": "stream",
          "name": "stdout",
          "text": [
            "+------+---------+---------+-------------+----------+-----+-------------+----------------+\n",
            "| ordem| latitude|longitude|     datahora|velocidade|linha|datahoraenvio|datahoraservidor|\n",
            "+------+---------+---------+-------------+----------+-----+-------------+----------------+\n",
            "|B27026|-22.87052|-43.33811|1684324793000|         0|  639|1684324800000|   1684324828000|\n",
            "|B27033|-22.82531| -43.2955|1684324790000|        42|  905|1684324800000|   1684324828000|\n",
            "|C27198|-22.86548|-43.29972|1684324784000|         0|  292|1684324800000|   1684324828000|\n",
            "|B27126|-22.85722|-43.32907|1684324597000|         0|  774|1684324800000|   1684324828000|\n",
            "|B27111|-22.88118| -43.2575|1684324793000|         0|SP265|1684324800000|   1684324828000|\n",
            "|C27028|-22.83632|-43.30833|1684324787000|         0|  775|1684324800000|   1684324828000|\n",
            "|C27165|-22.82391|-43.29611|1684324792000|         4|  905|1684324800000|   1684324828000|\n",
            "|B27044|-22.91452|-43.23565|1684324793000|        45|  639|1684324800000|   1684324828000|\n",
            "|C27119|-22.87005|-43.34139|1684324791000|         0|  774|1684324800000|   1684324828000|\n",
            "|C27106|-22.86766|-43.25294|1684324789000|        42|  905|1684324800000|   1684324828000|\n",
            "|B27107|-22.86506| -43.2934|1684324782000|        35|  629|1684324800000|   1684324828000|\n",
            "|C27200|-22.82716| -43.3254|1684324790000|        22|  629|1684324800000|   1684324828000|\n",
            "|C27029|-22.84944|-43.32546|1684324789000|        37|SV774|1684324800000|   1684324828000|\n",
            "|B27135|-22.82802|-43.27891|1684324794000|        22|  905|1684324800000|   1684324828000|\n",
            "|C27004|-22.86219|-43.24824|1684324791000|         8|  355|1684324800000|   1684324828000|\n",
            "|B27126|-22.85722|-43.32907|1684324627000|         0|  774|1684324800000|   1684324828000|\n",
            "|B27164|-22.88386| -43.3193|1684324791000|        14|  639|1684324800000|   1684324828000|\n",
            "|B27019|-22.92284|-43.23241|1684324789000|         0|  629|1684324800000|   1684324828000|\n",
            "|B27216|-22.90269| -43.2182|1684324787000|        16|  292|1684324800000|   1684324828000|\n",
            "|B27043|-22.88428|-43.29108|1684324791000|        32|  265|1684324800000|   1684324828000|\n",
            "+------+---------+---------+-------------+----------+-----+-------------+----------------+\n",
            "only showing top 20 rows\n",
            "\n"
          ]
        }
      ]
    },
    {
      "cell_type": "code",
      "source": [
        "from pyspark.sql import functions as F\n",
        "df2 = df2.withColumn('d_centro', (F.pow(F.sin(F.radians(lit(centroLat) - F.col(\"latitude\")) / 2), 2) +\n",
        "                                       F.cos(F.radians(F.col(\"latitude\").cast(FloatType()))) * F.cos(F.radians(lit(centroLat))) *\n",
        "                                       F.pow(F.sin(F.radians(lit(centroLong) - F.col(\"longitude\").cast(FloatType())) / 2), 2)))\n",
        "df2 = df2.withColumn('centro_distance_in_m', (F.atan2(F.sqrt(F.col(\"d_centro\")), F.sqrt(-F.col(\"d_centro\") + 1)) * 12742000).cast(FloatType()))"
      ],
      "metadata": {
        "id": "SBb__OVWVSSY"
      },
      "execution_count": 289,
      "outputs": []
    },
    {
      "cell_type": "code",
      "source": [
        "df2 = df2.withColumn('d_zs', (F.pow(F.sin(F.radians(lit(zsLat) - F.col(\"latitude\")) / 2), 2) +\n",
        "                                       F.cos(F.radians(F.col(\"latitude\").cast(FloatType()))) * F.cos(F.radians(lit(zsLat))) *\n",
        "                                       F.pow(F.sin(F.radians(lit(zsLong) - F.col(\"longitude\").cast(FloatType())) / 2), 2)))\n",
        "df2 = df2.withColumn('zs_distance_in_m', (F.atan2(F.sqrt(F.col(\"d_zs\")), F.sqrt(-F.col(\"d_zs\") + 1)) * 12742000).cast(FloatType()))"
      ],
      "metadata": {
        "id": "Ax1mgRJ0oUnh"
      },
      "execution_count": 290,
      "outputs": []
    },
    {
      "cell_type": "code",
      "source": [
        "df2 = df2.withColumn('d_zo', (F.pow(F.sin(F.radians(lit(zoLat) - F.col(\"latitude\")) / 2), 2) +\n",
        "                                       F.cos(F.radians(F.col(\"latitude\").cast(FloatType()))) * F.cos(F.radians(lit(zoLat))) *\n",
        "                                       F.pow(F.sin(F.radians(lit(zoLong) - F.col(\"longitude\").cast(FloatType())) / 2), 2)))\n",
        "df2 = df2.withColumn('zo_distance_in_m', (F.atan2(F.sqrt(F.col(\"d_zo\")), F.sqrt(-F.col(\"d_zo\") + 1)) * 12742000).cast(FloatType()))"
      ],
      "metadata": {
        "id": "muQm820hohHq"
      },
      "execution_count": 291,
      "outputs": []
    },
    {
      "cell_type": "code",
      "source": [
        "df2 = df2.withColumn('d_zn', (F.pow(F.sin(F.radians(lit(znLat) - F.col(\"latitude\")) / 2), 2) +\n",
        "                                       F.cos(F.radians(F.col(\"latitude\").cast(FloatType()))) * F.cos(F.radians(lit(znLat))) *\n",
        "                                       F.pow(F.sin(F.radians(lit(znLong) - F.col(\"longitude\").cast(FloatType())) / 2), 2)))\n",
        "df2 = df2.withColumn('zn_distance_in_m', (F.atan2(F.sqrt(F.col(\"d_zn\")), F.sqrt(-F.col(\"d_zn\") + 1)) * 12742000).cast(FloatType()))"
      ],
      "metadata": {
        "id": "Iwb4u8k7ouQs"
      },
      "execution_count": 292,
      "outputs": []
    },
    {
      "cell_type": "code",
      "source": [
        "from pyspark.sql.functions import when\n",
        "\n",
        "df2 = df2.withColumn('closest', when((col(\"centro_distance_in_m\") < col(\"zs_distance_in_m\")) & (col(\"centro_distance_in_m\") < col(\"zo_distance_in_m\")) & (col(\"centro_distance_in_m\") < col(\"zn_distance_in_m\")), 'Centro'\n",
        ").when((col(\"zs_distance_in_m\") < col(\"centro_distance_in_m\")) & (col(\"zs_distance_in_m\") < col(\"zo_distance_in_m\")) & (col(\"zs_distance_in_m\") < col(\"zn_distance_in_m\")), 'Zona Sul'\n",
        ").when((col(\"zo_distance_in_m\") < col(\"centro_distance_in_m\")) & (col(\"zo_distance_in_m\") < col(\"zs_distance_in_m\")) & (col(\"zo_distance_in_m\") < col(\"zn_distance_in_m\")), 'Zona Oeste'\n",
        ").when((col(\"zn_distance_in_m\") < col(\"centro_distance_in_m\")) & (col(\"zn_distance_in_m\") < col(\"zs_distance_in_m\")) & (col(\"zn_distance_in_m\") < col(\"zo_distance_in_m\")), 'Zona Norte'))"
      ],
      "metadata": {
        "id": "xWcsXxE4o6SR"
      },
      "execution_count": 293,
      "outputs": []
    },
    {
      "cell_type": "code",
      "source": [
        "df2 = df2.groupBy(\"ordem\").agg(f.mode(col(\"closest\")).alias(\"Zona mais frequente\"))\n",
        "df2.show()"
      ],
      "metadata": {
        "colab": {
          "base_uri": "https://localhost:8080/"
        },
        "id": "fqaRZvOlgNjq",
        "outputId": "e89d1bc0-e797-4f1a-c843-df0ec3ace2e3"
      },
      "execution_count": 294,
      "outputs": [
        {
          "output_type": "stream",
          "name": "stdout",
          "text": [
            "+------+-------------------+\n",
            "| ordem|Zona mais frequente|\n",
            "+------+-------------------+\n",
            "| 29107|           Zona Sul|\n",
            "|     A|           Zona Sul|\n",
            "|A27509|         Zona Norte|\n",
            "|A27515|         Zona Norte|\n",
            "|A27517|         Zona Norte|\n",
            "|A27522|         Zona Norte|\n",
            "|A27537|         Zona Norte|\n",
            "|A27544|           Zona Sul|\n",
            "|A27556|           Zona Sul|\n",
            "|A27559|         Zona Norte|\n",
            "|A27560|         Zona Norte|\n",
            "|A27565|           Zona Sul|\n",
            "|A27567|         Zona Norte|\n",
            "|A27571|           Zona Sul|\n",
            "|A27574|           Zona Sul|\n",
            "|A27582|           Zona Sul|\n",
            "|A27588|         Zona Norte|\n",
            "|A27589|         Zona Norte|\n",
            "|A27594|         Zona Norte|\n",
            "|A27597|         Zona Norte|\n",
            "+------+-------------------+\n",
            "only showing top 20 rows\n",
            "\n"
          ]
        }
      ]
    },
    {
      "cell_type": "code",
      "source": [
        "feature = joined_df.join(df_avg_speed, on=\"ordem\", how=\"inner\").join(df2, on=\"ordem\", how=\"inner\").join(df_bigger_period, on=\"ordem\", how=\"inner\").select(\"ordem\", \"Porcentagem de tempo rodando\", \"Porcentagem de tempo na garagem\", \"avg_velocidade\", \"Zona mais frequente\", \"mode(periodo)\")\n",
        "feature.show()"
      ],
      "metadata": {
        "colab": {
          "base_uri": "https://localhost:8080/"
        },
        "id": "Nbp7Sqm-VWRH",
        "outputId": "a214e07f-d435-447c-8d6d-58e0bf303396"
      },
      "execution_count": 304,
      "outputs": [
        {
          "output_type": "stream",
          "name": "stdout",
          "text": [
            "+------+----------------------------+-------------------------------+------------------+-------------------+-------------+\n",
            "| ordem|Porcentagem de tempo rodando|Porcentagem de tempo na garagem|    avg_velocidade|Zona mais frequente|mode(periodo)|\n",
            "+------+----------------------------+-------------------------------+------------------+-------------------+-------------+\n",
            "| 29107|          0.9937612147675191|           0.006238785232480814|21.486394896840427|           Zona Sul|        Noite|\n",
            "|A27509|          0.4621710780632657|             0.5378289219367343| 24.26355767532238|         Zona Norte|        Noite|\n",
            "|A27515|          0.4981160430717141|             0.5018839569282859|23.580185415801854|         Zona Norte|        Noite|\n",
            "|A27517|         0.49923593742836914|             0.5007640625716309| 22.48117379070079|         Zona Norte|        Tarde|\n",
            "|A27522|         0.49972676118163856|             0.5002732388183614|22.747552447552447|         Zona Norte|        Noite|\n",
            "|A27537|          0.4989632545848212|             0.5010367454151788|24.413737222637746|         Zona Norte|        Noite|\n",
            "|A27544|            0.49932369828613|               0.50067630171387|25.023481490355817|           Zona Sul|        Noite|\n",
            "|A27556|          0.4689721115752921|             0.5310278884247078| 25.65372340425532|           Zona Sul|        Noite|\n",
            "|A27559|          0.5004169945625434|             0.4995830054374565|22.938871054039595|         Zona Norte|        Noite|\n",
            "|A27560|          0.4988059766193265|             0.5011940233806735| 21.50585761489937|         Zona Norte|        Noite|\n",
            "|A27565|          0.5003633339754459|            0.49963666602455414| 24.50779308786989|           Zona Sul|        Manhã|\n",
            "|A27567|          0.4900480674652889|              0.509951932534711| 23.78698517298188|         Zona Norte|        Noite|\n",
            "|A27571|           0.498284321237383|             0.5017156787626169|30.093392837705455|           Zona Sul|        Noite|\n",
            "|A27574|          0.4990981413426031|              0.500901858657397|23.379046293073444|           Zona Sul|        Noite|\n",
            "|A27582|          0.5048981871424475|             0.4951018128575526| 27.93938148566732|           Zona Sul|        Noite|\n",
            "|A27588|          0.5000724272138267|             0.4999275727861733| 23.80046403712297|         Zona Norte|        Noite|\n",
            "|A27589|          0.4965256841318176|             0.5034743158681825| 22.03351582320737|         Zona Norte|        Noite|\n",
            "|A27594|          0.5053629412512731|            0.49463705874872677|21.635823781245684|         Zona Norte|        Noite|\n",
            "|A27597|          0.5010996579264789|              0.498900342073521|24.974098961514965|         Zona Norte|        Manhã|\n",
            "|A27606|          0.4898340807469321|             0.5101659192530679|30.782456140350877|           Zona Sul|        Noite|\n",
            "+------+----------------------------+-------------------------------+------------------+-------------------+-------------+\n",
            "only showing top 20 rows\n",
            "\n"
          ]
        }
      ]
    },
    {
      "cell_type": "code",
      "source": [
        "graph = feature.withColumn(\n",
        "    \"Noite\",\n",
        "    when(col(\"mode(periodo)\") == \"Noite\", 1).otherwise(0)\n",
        "    ).withColumn(\n",
        "    \"Manha\",\n",
        "    when(col(\"mode(periodo)\") == \"Manhã\", 1).otherwise(0)\n",
        "    ).withColumn(\n",
        "    \"Tarde\",\n",
        "    when(col(\"mode(periodo)\") == \"Tarde\", 1).otherwise(0)\n",
        "    ).withColumn(\n",
        "    \"Madrugada\",\n",
        "    when(col(\"mode(periodo)\") == \"Madrugada\", 1).otherwise(0)\n",
        "    ).withColumn(\n",
        "        \"Centro\",\n",
        "        when(col(\"Zona mais frequente\") == \"Centro\", 1).otherwise(0)\n",
        "    ).withColumn(\n",
        "        \"Zona Sul\",\n",
        "        when(col(\"Zona mais frequente\") == \"Zona Sul\", 1).otherwise(0)\n",
        "    ).withColumn(\n",
        "        \"Zona Oeste\",\n",
        "        when(col(\"Zona mais frequente\") == \"Zona Oeste\", 1).otherwise(0)\n",
        "    ).withColumn(\n",
        "        \"Zona Norte\",\n",
        "        when(col(\"Zona mais frequente\") == \"Zona Norte\", 1).otherwise(0)\n",
        "    )\n",
        ""
      ],
      "metadata": {
        "id": "HYlpbsqI2dVb"
      },
      "execution_count": 325,
      "outputs": []
    },
    {
      "cell_type": "code",
      "source": [
        "graph = graph.select(\"ordem\", \"Noite\", \"Manha\", \"Tarde\", \"Madrugada\", \"Centro\", \"Zona Sul\", \"Zona Oeste\", \"Zona Norte\")\n",
        "graph.printSchema()\n"
      ],
      "metadata": {
        "colab": {
          "base_uri": "https://localhost:8080/"
        },
        "id": "N-TFIRggMQEl",
        "outputId": "76de2648-3b53-4e28-98ae-ebc5a094cbfe"
      },
      "execution_count": 326,
      "outputs": [
        {
          "output_type": "stream",
          "name": "stdout",
          "text": [
            "root\n",
            " |-- ordem: string (nullable = true)\n",
            " |-- Noite: integer (nullable = false)\n",
            " |-- Manha: integer (nullable = false)\n",
            " |-- Tarde: integer (nullable = false)\n",
            " |-- Madrugada: integer (nullable = false)\n",
            " |-- Centro: integer (nullable = false)\n",
            " |-- Zona Sul: integer (nullable = false)\n",
            " |-- Zona Oeste: integer (nullable = false)\n",
            " |-- Zona Norte: integer (nullable = false)\n",
            "\n"
          ]
        }
      ]
    },
    {
      "cell_type": "code",
      "source": [
        "! pip install scikit-learn seaborn\n",
        "import seaborn as sns"
      ],
      "metadata": {
        "colab": {
          "base_uri": "https://localhost:8080/"
        },
        "id": "qLk5tmYYytFJ",
        "outputId": "b8695ac9-f4ec-40fe-c151-c95c8f513efc"
      },
      "execution_count": 308,
      "outputs": [
        {
          "output_type": "stream",
          "name": "stdout",
          "text": [
            "Requirement already satisfied: scikit-learn in /usr/local/lib/python3.10/dist-packages (1.2.2)\n",
            "Requirement already satisfied: seaborn in /usr/local/lib/python3.10/dist-packages (0.12.2)\n",
            "Requirement already satisfied: numpy>=1.17.3 in /usr/local/lib/python3.10/dist-packages (from scikit-learn) (1.23.5)\n",
            "Requirement already satisfied: scipy>=1.3.2 in /usr/local/lib/python3.10/dist-packages (from scikit-learn) (1.11.2)\n",
            "Requirement already satisfied: joblib>=1.1.1 in /usr/local/lib/python3.10/dist-packages (from scikit-learn) (1.3.2)\n",
            "Requirement already satisfied: threadpoolctl>=2.0.0 in /usr/local/lib/python3.10/dist-packages (from scikit-learn) (3.2.0)\n",
            "Requirement already satisfied: pandas>=0.25 in /usr/local/lib/python3.10/dist-packages (from seaborn) (1.5.3)\n",
            "Requirement already satisfied: matplotlib!=3.6.1,>=3.1 in /usr/local/lib/python3.10/dist-packages (from seaborn) (3.7.1)\n",
            "Requirement already satisfied: contourpy>=1.0.1 in /usr/local/lib/python3.10/dist-packages (from matplotlib!=3.6.1,>=3.1->seaborn) (1.1.0)\n",
            "Requirement already satisfied: cycler>=0.10 in /usr/local/lib/python3.10/dist-packages (from matplotlib!=3.6.1,>=3.1->seaborn) (0.11.0)\n",
            "Requirement already satisfied: fonttools>=4.22.0 in /usr/local/lib/python3.10/dist-packages (from matplotlib!=3.6.1,>=3.1->seaborn) (4.42.1)\n",
            "Requirement already satisfied: kiwisolver>=1.0.1 in /usr/local/lib/python3.10/dist-packages (from matplotlib!=3.6.1,>=3.1->seaborn) (1.4.5)\n",
            "Requirement already satisfied: packaging>=20.0 in /usr/local/lib/python3.10/dist-packages (from matplotlib!=3.6.1,>=3.1->seaborn) (23.1)\n",
            "Requirement already satisfied: pillow>=6.2.0 in /usr/local/lib/python3.10/dist-packages (from matplotlib!=3.6.1,>=3.1->seaborn) (9.4.0)\n",
            "Requirement already satisfied: pyparsing>=2.3.1 in /usr/local/lib/python3.10/dist-packages (from matplotlib!=3.6.1,>=3.1->seaborn) (3.1.1)\n",
            "Requirement already satisfied: python-dateutil>=2.7 in /usr/local/lib/python3.10/dist-packages (from matplotlib!=3.6.1,>=3.1->seaborn) (2.8.2)\n",
            "Requirement already satisfied: pytz>=2020.1 in /usr/local/lib/python3.10/dist-packages (from pandas>=0.25->seaborn) (2023.3.post1)\n",
            "Requirement already satisfied: six>=1.5 in /usr/local/lib/python3.10/dist-packages (from python-dateutil>=2.7->matplotlib!=3.6.1,>=3.1->seaborn) (1.16.0)\n"
          ]
        },
        {
          "output_type": "execute_result",
          "data": {
            "text/plain": [
              "(528, 14)"
            ]
          },
          "metadata": {},
          "execution_count": 308
        }
      ]
    },
    {
      "cell_type": "code",
      "source": [
        "dff = graph.toPandas()\n",
        "dff.shape"
      ],
      "metadata": {
        "colab": {
          "base_uri": "https://localhost:8080/"
        },
        "id": "Gg8_L7WFMyB7",
        "outputId": "e5094df7-b6cb-43ba-eff6-490edda68d1a"
      },
      "execution_count": 327,
      "outputs": [
        {
          "output_type": "execute_result",
          "data": {
            "text/plain": [
              "(528, 9)"
            ]
          },
          "metadata": {},
          "execution_count": 327
        }
      ]
    },
    {
      "cell_type": "code",
      "source": [
        "from sklearn.manifold import TSNE\n",
        "dff[\"id\"] = dff.index\n",
        "dff.columns"
      ],
      "metadata": {
        "id": "42iR4uH4znvq",
        "colab": {
          "base_uri": "https://localhost:8080/"
        },
        "outputId": "1e2f95bd-3dfb-481e-cdc4-37e8597ccba6"
      },
      "execution_count": 328,
      "outputs": [
        {
          "output_type": "execute_result",
          "data": {
            "text/plain": [
              "Index(['ordem', 'Noite', 'Manha', 'Tarde', 'Madrugada', 'Centro', 'Zona Sul',\n",
              "       'Zona Oeste', 'Zona Norte', 'id'],\n",
              "      dtype='object')"
            ]
          },
          "metadata": {},
          "execution_count": 328
        }
      ]
    },
    {
      "cell_type": "code",
      "source": [
        "dff2 = dff[[\"Tarde\", \"Manha\", \"Noite\", \"Madrugada\", \"Centro\", \"Zona Sul\", \"Zona Oeste\", \"Zona Norte\"]]"
      ],
      "metadata": {
        "id": "qVZP5dYH2Jgm"
      },
      "execution_count": 329,
      "outputs": []
    },
    {
      "cell_type": "code",
      "source": [
        "dff2.head()"
      ],
      "metadata": {
        "colab": {
          "base_uri": "https://localhost:8080/",
          "height": 206
        },
        "id": "qcwYGk3rKcjH",
        "outputId": "206521b1-9b20-4142-8cc3-1e624f02e085"
      },
      "execution_count": 330,
      "outputs": [
        {
          "output_type": "execute_result",
          "data": {
            "text/plain": [
              "   Tarde  Manha  Noite  Madrugada  Centro  Zona Sul  Zona Oeste  Zona Norte\n",
              "0      1      0      0          0       0         0           0           1\n",
              "1      1      0      0          0       0         0           0           1\n",
              "2      1      0      0          0       0         0           0           1\n",
              "3      1      0      0          0       0         0           0           1\n",
              "4      0      0      1          0       0         0           0           1"
            ],
            "text/html": [
              "\n",
              "  <div id=\"df-9114021e-75d8-4a23-95fd-e0bc732a93a6\" class=\"colab-df-container\">\n",
              "    <div>\n",
              "<style scoped>\n",
              "    .dataframe tbody tr th:only-of-type {\n",
              "        vertical-align: middle;\n",
              "    }\n",
              "\n",
              "    .dataframe tbody tr th {\n",
              "        vertical-align: top;\n",
              "    }\n",
              "\n",
              "    .dataframe thead th {\n",
              "        text-align: right;\n",
              "    }\n",
              "</style>\n",
              "<table border=\"1\" class=\"dataframe\">\n",
              "  <thead>\n",
              "    <tr style=\"text-align: right;\">\n",
              "      <th></th>\n",
              "      <th>Tarde</th>\n",
              "      <th>Manha</th>\n",
              "      <th>Noite</th>\n",
              "      <th>Madrugada</th>\n",
              "      <th>Centro</th>\n",
              "      <th>Zona Sul</th>\n",
              "      <th>Zona Oeste</th>\n",
              "      <th>Zona Norte</th>\n",
              "    </tr>\n",
              "  </thead>\n",
              "  <tbody>\n",
              "    <tr>\n",
              "      <th>0</th>\n",
              "      <td>1</td>\n",
              "      <td>0</td>\n",
              "      <td>0</td>\n",
              "      <td>0</td>\n",
              "      <td>0</td>\n",
              "      <td>0</td>\n",
              "      <td>0</td>\n",
              "      <td>1</td>\n",
              "    </tr>\n",
              "    <tr>\n",
              "      <th>1</th>\n",
              "      <td>1</td>\n",
              "      <td>0</td>\n",
              "      <td>0</td>\n",
              "      <td>0</td>\n",
              "      <td>0</td>\n",
              "      <td>0</td>\n",
              "      <td>0</td>\n",
              "      <td>1</td>\n",
              "    </tr>\n",
              "    <tr>\n",
              "      <th>2</th>\n",
              "      <td>1</td>\n",
              "      <td>0</td>\n",
              "      <td>0</td>\n",
              "      <td>0</td>\n",
              "      <td>0</td>\n",
              "      <td>0</td>\n",
              "      <td>0</td>\n",
              "      <td>1</td>\n",
              "    </tr>\n",
              "    <tr>\n",
              "      <th>3</th>\n",
              "      <td>1</td>\n",
              "      <td>0</td>\n",
              "      <td>0</td>\n",
              "      <td>0</td>\n",
              "      <td>0</td>\n",
              "      <td>0</td>\n",
              "      <td>0</td>\n",
              "      <td>1</td>\n",
              "    </tr>\n",
              "    <tr>\n",
              "      <th>4</th>\n",
              "      <td>0</td>\n",
              "      <td>0</td>\n",
              "      <td>1</td>\n",
              "      <td>0</td>\n",
              "      <td>0</td>\n",
              "      <td>0</td>\n",
              "      <td>0</td>\n",
              "      <td>1</td>\n",
              "    </tr>\n",
              "  </tbody>\n",
              "</table>\n",
              "</div>\n",
              "    <div class=\"colab-df-buttons\">\n",
              "\n",
              "  <div class=\"colab-df-container\">\n",
              "    <button class=\"colab-df-convert\" onclick=\"convertToInteractive('df-9114021e-75d8-4a23-95fd-e0bc732a93a6')\"\n",
              "            title=\"Convert this dataframe to an interactive table.\"\n",
              "            style=\"display:none;\">\n",
              "\n",
              "  <svg xmlns=\"http://www.w3.org/2000/svg\" height=\"24px\" viewBox=\"0 -960 960 960\">\n",
              "    <path d=\"M120-120v-720h720v720H120Zm60-500h600v-160H180v160Zm220 220h160v-160H400v160Zm0 220h160v-160H400v160ZM180-400h160v-160H180v160Zm440 0h160v-160H620v160ZM180-180h160v-160H180v160Zm440 0h160v-160H620v160Z\"/>\n",
              "  </svg>\n",
              "    </button>\n",
              "\n",
              "  <style>\n",
              "    .colab-df-container {\n",
              "      display:flex;\n",
              "      gap: 12px;\n",
              "    }\n",
              "\n",
              "    .colab-df-convert {\n",
              "      background-color: #E8F0FE;\n",
              "      border: none;\n",
              "      border-radius: 50%;\n",
              "      cursor: pointer;\n",
              "      display: none;\n",
              "      fill: #1967D2;\n",
              "      height: 32px;\n",
              "      padding: 0 0 0 0;\n",
              "      width: 32px;\n",
              "    }\n",
              "\n",
              "    .colab-df-convert:hover {\n",
              "      background-color: #E2EBFA;\n",
              "      box-shadow: 0px 1px 2px rgba(60, 64, 67, 0.3), 0px 1px 3px 1px rgba(60, 64, 67, 0.15);\n",
              "      fill: #174EA6;\n",
              "    }\n",
              "\n",
              "    .colab-df-buttons div {\n",
              "      margin-bottom: 4px;\n",
              "    }\n",
              "\n",
              "    [theme=dark] .colab-df-convert {\n",
              "      background-color: #3B4455;\n",
              "      fill: #D2E3FC;\n",
              "    }\n",
              "\n",
              "    [theme=dark] .colab-df-convert:hover {\n",
              "      background-color: #434B5C;\n",
              "      box-shadow: 0px 1px 3px 1px rgba(0, 0, 0, 0.15);\n",
              "      filter: drop-shadow(0px 1px 2px rgba(0, 0, 0, 0.3));\n",
              "      fill: #FFFFFF;\n",
              "    }\n",
              "  </style>\n",
              "\n",
              "    <script>\n",
              "      const buttonEl =\n",
              "        document.querySelector('#df-9114021e-75d8-4a23-95fd-e0bc732a93a6 button.colab-df-convert');\n",
              "      buttonEl.style.display =\n",
              "        google.colab.kernel.accessAllowed ? 'block' : 'none';\n",
              "\n",
              "      async function convertToInteractive(key) {\n",
              "        const element = document.querySelector('#df-9114021e-75d8-4a23-95fd-e0bc732a93a6');\n",
              "        const dataTable =\n",
              "          await google.colab.kernel.invokeFunction('convertToInteractive',\n",
              "                                                    [key], {});\n",
              "        if (!dataTable) return;\n",
              "\n",
              "        const docLinkHtml = 'Like what you see? Visit the ' +\n",
              "          '<a target=\"_blank\" href=https://colab.research.google.com/notebooks/data_table.ipynb>data table notebook</a>'\n",
              "          + ' to learn more about interactive tables.';\n",
              "        element.innerHTML = '';\n",
              "        dataTable['output_type'] = 'display_data';\n",
              "        await google.colab.output.renderOutput(dataTable, element);\n",
              "        const docLink = document.createElement('div');\n",
              "        docLink.innerHTML = docLinkHtml;\n",
              "        element.appendChild(docLink);\n",
              "      }\n",
              "    </script>\n",
              "  </div>\n",
              "\n",
              "\n",
              "<div id=\"df-efa0ccd4-de88-458e-96d6-a265d89831f2\">\n",
              "  <button class=\"colab-df-quickchart\" onclick=\"quickchart('df-efa0ccd4-de88-458e-96d6-a265d89831f2')\"\n",
              "            title=\"Suggest charts.\"\n",
              "            style=\"display:none;\">\n",
              "\n",
              "<svg xmlns=\"http://www.w3.org/2000/svg\" height=\"24px\"viewBox=\"0 0 24 24\"\n",
              "     width=\"24px\">\n",
              "    <g>\n",
              "        <path d=\"M19 3H5c-1.1 0-2 .9-2 2v14c0 1.1.9 2 2 2h14c1.1 0 2-.9 2-2V5c0-1.1-.9-2-2-2zM9 17H7v-7h2v7zm4 0h-2V7h2v10zm4 0h-2v-4h2v4z\"/>\n",
              "    </g>\n",
              "</svg>\n",
              "  </button>\n",
              "\n",
              "<style>\n",
              "  .colab-df-quickchart {\n",
              "      --bg-color: #E8F0FE;\n",
              "      --fill-color: #1967D2;\n",
              "      --hover-bg-color: #E2EBFA;\n",
              "      --hover-fill-color: #174EA6;\n",
              "      --disabled-fill-color: #AAA;\n",
              "      --disabled-bg-color: #DDD;\n",
              "  }\n",
              "\n",
              "  [theme=dark] .colab-df-quickchart {\n",
              "      --bg-color: #3B4455;\n",
              "      --fill-color: #D2E3FC;\n",
              "      --hover-bg-color: #434B5C;\n",
              "      --hover-fill-color: #FFFFFF;\n",
              "      --disabled-bg-color: #3B4455;\n",
              "      --disabled-fill-color: #666;\n",
              "  }\n",
              "\n",
              "  .colab-df-quickchart {\n",
              "    background-color: var(--bg-color);\n",
              "    border: none;\n",
              "    border-radius: 50%;\n",
              "    cursor: pointer;\n",
              "    display: none;\n",
              "    fill: var(--fill-color);\n",
              "    height: 32px;\n",
              "    padding: 0;\n",
              "    width: 32px;\n",
              "  }\n",
              "\n",
              "  .colab-df-quickchart:hover {\n",
              "    background-color: var(--hover-bg-color);\n",
              "    box-shadow: 0 1px 2px rgba(60, 64, 67, 0.3), 0 1px 3px 1px rgba(60, 64, 67, 0.15);\n",
              "    fill: var(--button-hover-fill-color);\n",
              "  }\n",
              "\n",
              "  .colab-df-quickchart-complete:disabled,\n",
              "  .colab-df-quickchart-complete:disabled:hover {\n",
              "    background-color: var(--disabled-bg-color);\n",
              "    fill: var(--disabled-fill-color);\n",
              "    box-shadow: none;\n",
              "  }\n",
              "\n",
              "  .colab-df-spinner {\n",
              "    border: 2px solid var(--fill-color);\n",
              "    border-color: transparent;\n",
              "    border-bottom-color: var(--fill-color);\n",
              "    animation:\n",
              "      spin 1s steps(1) infinite;\n",
              "  }\n",
              "\n",
              "  @keyframes spin {\n",
              "    0% {\n",
              "      border-color: transparent;\n",
              "      border-bottom-color: var(--fill-color);\n",
              "      border-left-color: var(--fill-color);\n",
              "    }\n",
              "    20% {\n",
              "      border-color: transparent;\n",
              "      border-left-color: var(--fill-color);\n",
              "      border-top-color: var(--fill-color);\n",
              "    }\n",
              "    30% {\n",
              "      border-color: transparent;\n",
              "      border-left-color: var(--fill-color);\n",
              "      border-top-color: var(--fill-color);\n",
              "      border-right-color: var(--fill-color);\n",
              "    }\n",
              "    40% {\n",
              "      border-color: transparent;\n",
              "      border-right-color: var(--fill-color);\n",
              "      border-top-color: var(--fill-color);\n",
              "    }\n",
              "    60% {\n",
              "      border-color: transparent;\n",
              "      border-right-color: var(--fill-color);\n",
              "    }\n",
              "    80% {\n",
              "      border-color: transparent;\n",
              "      border-right-color: var(--fill-color);\n",
              "      border-bottom-color: var(--fill-color);\n",
              "    }\n",
              "    90% {\n",
              "      border-color: transparent;\n",
              "      border-bottom-color: var(--fill-color);\n",
              "    }\n",
              "  }\n",
              "</style>\n",
              "\n",
              "  <script>\n",
              "    async function quickchart(key) {\n",
              "      const quickchartButtonEl =\n",
              "        document.querySelector('#' + key + ' button');\n",
              "      quickchartButtonEl.disabled = true;  // To prevent multiple clicks.\n",
              "      quickchartButtonEl.classList.add('colab-df-spinner');\n",
              "      try {\n",
              "        const charts = await google.colab.kernel.invokeFunction(\n",
              "            'suggestCharts', [key], {});\n",
              "      } catch (error) {\n",
              "        console.error('Error during call to suggestCharts:', error);\n",
              "      }\n",
              "      quickchartButtonEl.classList.remove('colab-df-spinner');\n",
              "      quickchartButtonEl.classList.add('colab-df-quickchart-complete');\n",
              "    }\n",
              "    (() => {\n",
              "      let quickchartButtonEl =\n",
              "        document.querySelector('#df-efa0ccd4-de88-458e-96d6-a265d89831f2 button');\n",
              "      quickchartButtonEl.style.display =\n",
              "        google.colab.kernel.accessAllowed ? 'block' : 'none';\n",
              "    })();\n",
              "  </script>\n",
              "</div>\n",
              "    </div>\n",
              "  </div>\n"
            ]
          },
          "metadata": {},
          "execution_count": 330
        }
      ]
    },
    {
      "cell_type": "code",
      "source": [
        "matrix = dff2.to_numpy()"
      ],
      "metadata": {
        "id": "riQrnZ000Mov"
      },
      "execution_count": 331,
      "outputs": []
    },
    {
      "cell_type": "code",
      "source": [
        "r_tsne = TSNE(n_components=2, random_state=1, perplexity=10, verbose=1).fit_transform(matrix)"
      ],
      "metadata": {
        "id": "6Vd3kJ050PAc",
        "colab": {
          "base_uri": "https://localhost:8080/"
        },
        "outputId": "38f22699-399c-49c7-9974-5afe12733327"
      },
      "execution_count": 332,
      "outputs": [
        {
          "output_type": "stream",
          "name": "stdout",
          "text": [
            "[t-SNE] Computing 31 nearest neighbors...\n",
            "[t-SNE] Indexed 528 samples in 0.001s...\n",
            "[t-SNE] Computed neighbors for 528 samples in 0.010s...\n",
            "[t-SNE] Computed conditional probabilities for sample 528 / 528\n",
            "[t-SNE] Mean sigma: 0.000000\n",
            "[t-SNE] KL divergence after 250 iterations with early exaggeration: 32.475174\n",
            "[t-SNE] KL divergence after 1000 iterations: -2.021932\n"
          ]
        }
      ]
    },
    {
      "cell_type": "code",
      "source": [
        "import pandas as pd\n",
        "import matplotlib.pyplot as plt\n",
        "import matplotlib.colors as mcolors\n",
        "df_tsne = pd.DataFrame()\n",
        "df_tsne['x'] = r_tsne[:,0]\n",
        "df_tsne['y'] = r_tsne[:,1]\n",
        "plt.figure(figsize=(16,8))\n",
        "sns.scatterplot(\n",
        "    x='x',\n",
        "    y='y',\n",
        "    # hue=predicao,\n",
        "    # palette=sns.color_palette(\"hls\", len(set(predicao))),\n",
        "    data=df_tsne,\n",
        "    legend=\"full\",\n",
        "    alpha=0.3\n",
        ")\n",
        "plt.legend(loc='upper right')\n",
        "plt.show()"
      ],
      "metadata": {
        "id": "EXYhkGml3Bzg",
        "colab": {
          "base_uri": "https://localhost:8080/",
          "height": 713
        },
        "outputId": "f710a5dc-96fc-4cb0-f9cb-0259d9c91ce0"
      },
      "execution_count": 333,
      "outputs": [
        {
          "output_type": "stream",
          "name": "stderr",
          "text": [
            "WARNING:matplotlib.legend:No artists with labels found to put in legend.  Note that artists whose label start with an underscore are ignored when legend() is called with no argument.\n"
          ]
        },
        {
          "output_type": "display_data",
          "data": {
            "text/plain": [
              "<Figure size 1600x800 with 1 Axes>"
            ],
            "image/png": "[encoded data removed]"
          },
          "metadata": {}
        }
      ]
    }
  ]
}